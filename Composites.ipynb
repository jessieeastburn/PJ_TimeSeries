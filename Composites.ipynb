{
 "cells": [
  {
   "cell_type": "code",
   "execution_count": null,
   "id": "b97e1d0d",
   "metadata": {},
   "outputs": [],
   "source": []
  },
  {
   "cell_type": "code",
   "execution_count": 1,
   "id": "a84b354c",
   "metadata": {},
   "outputs": [],
   "source": [
    "#pip install geeViz\n",
    "#pip install geemap\n",
    "#pip install --upgrade ipywidgets\n",
    "#pip install --upgrade ipykernel\n",
    "import geeViz as Map"
   ]
  },
  {
   "cell_type": "code",
   "execution_count": 2,
   "id": "60528c0d-4eb1-4ff3-a9b2-12746b8d4caa",
   "metadata": {},
   "outputs": [
    {
     "name": "stderr",
     "output_type": "stream",
     "text": [
      "/Users/jessieeastburn/Library/Python/3.9/lib/python/site-packages/urllib3/__init__.py:35: NotOpenSSLWarning: urllib3 v2 only supports OpenSSL 1.1.1+, currently the 'ssl' module is compiled with 'LibreSSL 2.8.3'. See: https://github.com/urllib3/urllib3/issues/3020\n",
      "  warnings.warn(\n"
     ]
    },
    {
     "name": "stdout",
     "output_type": "stream",
     "text": [
      "Initializing GEE\n",
      "Successfully initialized\n",
      "geeViz package folder: /Users/jessieeastburn/Library/Python/3.9/lib/python/site-packages/geeViz\n",
      "done\n"
     ]
    }
   ],
   "source": [
    "#Example of how to get Landsat data using the getImagesLib and view outputs using the Python visualization tools\n",
    "#Acquires Landsat data and then adds them to the viewer\n",
    "####################################################################################################\n",
    "import os,sys\n",
    "sys.path.append(os.getcwd())\n",
    "\n",
    "#Module imports\n",
    "import geeViz.getImagesLib as getImagesLib\n",
    "ee = getImagesLib.ee\n",
    "Map = getImagesLib.Map\n",
    "\n",
    "print('done')"
   ]
  },
  {
   "cell_type": "code",
   "execution_count": 4,
   "id": "e11b65fb-bbc4-47a1-b55b-7213cde20b11",
   "metadata": {},
   "outputs": [
    {
     "name": "stdout",
     "output_type": "stream",
     "text": [
      "Adding layer: utka\n",
      "Starting webmap\n",
      "Using default refresh token for geeView\n",
      "Local web server at: http://localhost:1984/geeView/ already serving.\n",
      "cwd /Users/jessieeastburn/Library/CloudStorage/OneDrive-UniversityofUtah/URSA_Work/TS2/PJ_TimeSeries\n",
      "geeView URL: http://localhost:1984/geeView/?projectID=None&accessToken=ya29.a0AfB_byDq_fIVhliO-l8zAuuitAGgjbMn74ICuyGj-g-cxxC9soFIwlBiMq9Xp2oTsEmQJCw2GKWAkGKfgVK0DVYBq20cH0uojBUcM4XXpeuJEhalhw9kH1saQKXKky6fUbbsFSjibLw6kuAloa7p49pk3Ypzg0A90UTuiAaCgYKAXUSARISFQHGX2MirB50olfrDB1wIhz1Pt_x4g0173\n"
     ]
    },
    {
     "data": {
      "text/html": [
       "\n",
       "        <iframe\n",
       "            width=\"100%\"\n",
       "            height=\"525px\"\n",
       "            src=\"http://localhost:1984/geeView/?projectID=None&accessToken=ya29.a0AfB_byDq_fIVhliO-l8zAuuitAGgjbMn74ICuyGj-g-cxxC9soFIwlBiMq9Xp2oTsEmQJCw2GKWAkGKfgVK0DVYBq20cH0uojBUcM4XXpeuJEhalhw9kH1saQKXKky6fUbbsFSjibLw6kuAloa7p49pk3Ypzg0A90UTuiAaCgYKAXUSARISFQHGX2MirB50olfrDB1wIhz1Pt_x4g0173\"\n",
       "            frameborder=\"0\"\n",
       "            allowfullscreen\n",
       "            \n",
       "        ></iframe>\n",
       "        "
      ],
      "text/plain": [
       "<IPython.lib.display.IFrame at 0x10a999df0>"
      ]
     },
     "metadata": {},
     "output_type": "display_data"
    },
    {
     "name": "stderr",
     "output_type": "stream",
     "text": [
      "::1 - - [19/Feb/2024 20:41:35] \"GET /geeView/?projectID=None&accessToken=ya29.a0AfB_byDq_fIVhliO-l8zAuuitAGgjbMn74ICuyGj-g-cxxC9soFIwlBiMq9Xp2oTsEmQJCw2GKWAkGKfgVK0DVYBq20cH0uojBUcM4XXpeuJEhalhw9kH1saQKXKky6fUbbsFSjibLw6kuAloa7p49pk3Ypzg0A90UTuiAaCgYKAXUSARISFQHGX2MirB50olfrDB1wIhz1Pt_x4g0173 HTTP/1.1\" 200 -\n",
      "::1 - - [19/Feb/2024 20:41:35] \"GET /geeView/src/styles/style.min.css HTTP/1.1\" 304 -\n",
      "::1 - - [19/Feb/2024 20:41:35] \"GET /geeView/src/js/gena-gee-palettes.js HTTP/1.1\" 304 -\n",
      "::1 - - [19/Feb/2024 20:41:35] \"GET /geeView/src/js/load.min.js HTTP/1.1\" 304 -\n",
      "::1 - - [19/Feb/2024 20:41:35] \"GET /geeView/src/js/lcms-viewer.min.js HTTP/1.1\" 304 -\n",
      "::1 - - [19/Feb/2024 20:41:35] \"GET /geeView/src/gee/gee-run/runGeeViz.js HTTP/1.1\" 200 -\n",
      "::1 - - [19/Feb/2024 20:41:35] \"GET /geeView/src/assets/images/GEE_logo_transparent.png HTTP/1.1\" 304 -\n",
      "::1 - - [19/Feb/2024 20:41:35] \"GET /geeView/src/assets/images/logos_usda-fs.svg HTTP/1.1\" 304 -\n",
      "::1 - - [19/Feb/2024 20:41:35] \"GET /geeView/src/assets/images/usdalogo.png HTTP/1.1\" 304 -\n",
      "::1 - - [19/Feb/2024 20:41:35] \"GET /geeView/src/assets/images/layer_icon.png HTTP/1.1\" 304 -\n",
      "::1 - - [19/Feb/2024 20:41:35] \"GET /geeView/src/assets/images/menu-hamburger_ffffff.svg HTTP/1.1\" 304 -\n",
      "::1 - - [19/Feb/2024 20:41:35] \"GET /geeView/src/assets/images/usfslogo.png HTTP/1.1\" 304 -\n",
      "::1 - - [19/Feb/2024 20:41:35] \"GET /geeView/src/assets/images/GEE.png HTTP/1.1\" 304 -\n"
     ]
    }
   ],
   "source": [
    "\n",
    "# Get utka polygon.\n",
    "studyArea = (\n",
    "    ee.FeatureCollection('projects/disco-glass-413820/assets/plot_min_bound_geom')\n",
    "    .filter(\"site_id == 'UOFU_UTKA'\")\n",
    "    .first()\n",
    "    .geometry()\n",
    ")\n",
    "\n",
    "Map.port = 1984\n",
    "Map.clearMap()\n",
    "\n",
    "studyArea = ee.Geometry.Polygon(\n",
    "            [[[-112.2647, 37.02876], \n",
    "              [-112.2647, 37.10894],\n",
    "              [-112.0867, 37.10894],\n",
    "              [-112.0867, 37.02876], \n",
    "              [-112.2647, 37.02876]]])\n",
    "Map.centerObject(studyArea, 12)\n",
    "Map.addLayer(studyArea, {'color': 'blue'}, 'utka')\n",
    "Map.view()\n",
    "\n"
   ]
  },
  {
   "cell_type": "code",
   "execution_count": 6,
   "id": "19772574-3a03-4187-8a12-ff5736b2c5c1",
   "metadata": {},
   "outputs": [
    {
     "data": {
      "text/plain": [
       "ee.Geometry({\n",
       "  \"functionInvocationValue\": {\n",
       "    \"functionName\": \"GeometryConstructors.Polygon\",\n",
       "    \"arguments\": {\n",
       "      \"coordinates\": {\n",
       "        \"constantValue\": [\n",
       "          [\n",
       "            [\n",
       "              -112.2647,\n",
       "              37.02876\n",
       "            ],\n",
       "            [\n",
       "              -112.2647,\n",
       "              37.10894\n",
       "            ],\n",
       "            [\n",
       "              -112.0867,\n",
       "              37.10894\n",
       "            ],\n",
       "            [\n",
       "              -112.0867,\n",
       "              37.02876\n",
       "            ],\n",
       "            [\n",
       "              -112.2647,\n",
       "              37.02876\n",
       "            ]\n",
       "          ]\n",
       "        ]\n",
       "      },\n",
       "      \"evenOdd\": {\n",
       "        \"constantValue\": true\n",
       "      }\n",
       "    }\n",
       "  }\n",
       "})"
      ]
     },
     "execution_count": 6,
     "metadata": {},
     "output_type": "execute_result"
    }
   ],
   "source": [
    "studyArea"
   ]
  },
  {
   "cell_type": "code",
   "execution_count": 10,
   "id": "d31f4879-0ecf-4fce-9e04-4c8cd948b044",
   "metadata": {},
   "outputs": [
    {
     "name": "stdout",
     "output_type": "stream",
     "text": [
      "Get Processed Landsat: \n",
      "Start date: Jan 01 2015 , End date: Dec 30 2020\n",
      "Applying scale factors for C2 L4 data\n",
      "Applying scale factors for C2 L5 data\n",
      "Applying scale factors for C2 L8 data\n",
      "Only including SLC On Landsat 7\n",
      "Applying scale factors for C2 L7 data\n",
      "Applying scale factors for C2 L9 data\n",
      "Applying Fmask Cloud Mask\n",
      "Applying Fmask Shadow Mask\n",
      "Adding layer: Time Series (NBR and NDVI)\n",
      "Adding layer: Default Params 2015 1-365\n",
      "Adding layer: Default Params 2016 1-365\n",
      "Adding layer: Default Params 2017 1-365\n",
      "Adding layer: Default Params 2018 1-365\n",
      "Adding layer: Default Params 2019 1-365\n",
      "Adding layer: Default Params 2020 1-365\n",
      "Adding layer: utka\n",
      "Starting webmap\n",
      "Using default refresh token for geeView\n",
      "Local web server at: http://localhost:1984/geeView/ already serving.\n",
      "cwd /Users/jessieeastburn/Library/CloudStorage/OneDrive-UniversityofUtah/URSA_Work/TS2/PJ_TimeSeries\n",
      "geeView URL: http://localhost:1984/geeView/?projectID=None&accessToken=ya29.a0AfB_byDfAjntdFn0ZC3L94xCnZf5cfdlSOIor50Vrh_qLxEnlkswxuE8bHKQ3bz-ssaKRPPAIZi5G8YC1w5nkJSAr6JWIp2KvqmWlbEm6LD5SB7-Z2PdxRMkM_Cl7JEZAJeY_zIZUHQzaVDycKx3hV_LIARqIA7ATzmvPQaCgYKAa4SARISFQHGX2MiQep9emQ_UhVi9Ch-y2fqGw0173\n"
     ]
    },
    {
     "data": {
      "text/html": [
       "\n",
       "        <iframe\n",
       "            width=\"100%\"\n",
       "            height=\"525px\"\n",
       "            src=\"http://localhost:1984/geeView/?projectID=None&accessToken=ya29.a0AfB_byDfAjntdFn0ZC3L94xCnZf5cfdlSOIor50Vrh_qLxEnlkswxuE8bHKQ3bz-ssaKRPPAIZi5G8YC1w5nkJSAr6JWIp2KvqmWlbEm6LD5SB7-Z2PdxRMkM_Cl7JEZAJeY_zIZUHQzaVDycKx3hV_LIARqIA7ATzmvPQaCgYKAa4SARISFQHGX2MiQep9emQ_UhVi9Ch-y2fqGw0173\"\n",
       "            frameborder=\"0\"\n",
       "            allowfullscreen\n",
       "            \n",
       "        ></iframe>\n",
       "        "
      ],
      "text/plain": [
       "<IPython.lib.display.IFrame at 0x10a9e8940>"
      ]
     },
     "metadata": {},
     "output_type": "display_data"
    },
    {
     "name": "stderr",
     "output_type": "stream",
     "text": [
      "::1 - - [19/Feb/2024 20:44:46] \"GET /geeView/?projectID=None&accessToken=ya29.a0AfB_byDfAjntdFn0ZC3L94xCnZf5cfdlSOIor50Vrh_qLxEnlkswxuE8bHKQ3bz-ssaKRPPAIZi5G8YC1w5nkJSAr6JWIp2KvqmWlbEm6LD5SB7-Z2PdxRMkM_Cl7JEZAJeY_zIZUHQzaVDycKx3hV_LIARqIA7ATzmvPQaCgYKAa4SARISFQHGX2MiQep9emQ_UhVi9Ch-y2fqGw0173 HTTP/1.1\" 200 -\n",
      "::1 - - [19/Feb/2024 20:44:46] \"GET /geeView/src/gee/gee-run/runGeeViz.js HTTP/1.1\" 200 -\n"
     ]
    }
   ],
   "source": [
    "# Specify study area: Study area\n",
    "# Can be a featureCollection, feature, or geometry\n",
    "#studyArea = ee.FeatureCollection('projects/lcms-292214/assets/R8/PR_USVI/Ancillary/prusvi_boundary_buff2mile').geometry().bounds()#testAreas['CA']\n",
    "\n",
    "# Update the startJulian and endJulian variables to indicate your seasonal \n",
    "# constraints. This supports wrapping for tropics and southern hemisphere.\n",
    "# If using wrapping and the majority of the days occur in the second year, the system:time_start will default \n",
    "# to June 1 of that year.Otherwise, all system:time_starts will default to June 1 of the given year\n",
    "# startJulian: Starting Julian date \n",
    "# endJulian: Ending Julian date\n",
    "startJulian = 1\n",
    "endJulian = 365\n",
    "\n",
    "# Specify start and end years for all analyses\n",
    "# More than a 3 year span should be provided for time series methods to work \n",
    "# well. If providing pre-computed stats for cloudScore and TDOM, this does not \n",
    "# matter\n",
    "startYear = 2015\n",
    "endYear = 2020\n",
    "\n",
    "#Call on master wrapper function to get Landat scenes and composites\n",
    "lsAndTs = getImagesLib.getLandsatWrapper(studyArea,startYear,endYear,startJulian,endJulian)\n",
    "\n",
    "\n",
    "#Separate into scenes and composites for subsequent analysis\n",
    "processedScenes = lsAndTs['processedScenes']\n",
    "processedComposites = lsAndTs['processedComposites']\n",
    "\n",
    "# Indicate what type of image is being added to speed up map service creation\n",
    "getImagesLib.vizParamsFalse['layerType']= 'geeImage';\n",
    "\n",
    "Map.clearMap()\n",
    "Map.port = 1984\n",
    "Map.addLayer(processedComposites.select(['NDVI','NBR']),{'addToLegend':'false'},'Time Series (NBR and NDVI)',True)\n",
    "for year in range(startYear,endYear + 1 ):\n",
    "     t = processedComposites.filter(ee.Filter.calendarRange(year,year,'year')).mosaic()\n",
    "     Map.addLayer(t.float(),getImagesLib.vizParamsFalse,'Default Params {} {}-{}'.format(year,startJulian,endJulian),'True')\n",
    "#Map.centerObject(studyArea, 9)\n",
    "\n",
    "Map.centerObject(studyArea, 12)\n",
    "Map.addLayer(studyArea, {'color': 'blue'}, 'utka')\n",
    "\n",
    "Map.turnOnInspector()\n",
    "Map.view()\n"
   ]
  },
  {
   "cell_type": "code",
   "execution_count": 8,
   "id": "792fbaee-187d-42f8-a706-c0f0f0176224",
   "metadata": {},
   "outputs": [
    {
     "data": {
      "text/plain": [
       "ee.Geometry({\n",
       "  \"functionInvocationValue\": {\n",
       "    \"functionName\": \"GeometryConstructors.Polygon\",\n",
       "    \"arguments\": {\n",
       "      \"coordinates\": {\n",
       "        \"constantValue\": [\n",
       "          [\n",
       "            [\n",
       "              -112.2647,\n",
       "              37.02876\n",
       "            ],\n",
       "            [\n",
       "              -112.2647,\n",
       "              37.10894\n",
       "            ],\n",
       "            [\n",
       "              -112.0867,\n",
       "              37.10894\n",
       "            ],\n",
       "            [\n",
       "              -112.0867,\n",
       "              37.02876\n",
       "            ],\n",
       "            [\n",
       "              -112.2647,\n",
       "              37.02876\n",
       "            ]\n",
       "          ]\n",
       "        ]\n",
       "      },\n",
       "      \"evenOdd\": {\n",
       "        \"constantValue\": true\n",
       "      }\n",
       "    }\n",
       "  }\n",
       "})"
      ]
     },
     "execution_count": 8,
     "metadata": {},
     "output_type": "execute_result"
    }
   ],
   "source": [
    "studyArea"
   ]
  },
  {
   "cell_type": "code",
   "execution_count": 11,
   "id": "02c7a1f3-dc76-4edf-86ad-b0f06f5e93a4",
   "metadata": {},
   "outputs": [
    {
     "name": "stdout",
     "output_type": "stream",
     "text": [
      "{'compositingMethod': 'medoid', 'compositingReducer': 'None', 'endJulian': 365, 'endYear': 2020, 'startJulian': 1, 'startYear': 2015, 'timebuffer': 0, 'weights': '[1]'}\n",
      "{'addPixelQA': 'False', 'applyCloudScore': 'False', 'applyFmaskCloudMask': 'True', 'applyFmaskCloudShadowMask': 'True', 'applyFmaskSnowMask': 'False', 'applyTDOM': 'False', 'cloudScorePctl': 10, 'cloudScoreThresh': 10, 'defringeL5': 'False', 'endJulian': 365, 'endYear': 2020, 'harmonizeOLI': 'False', 'includeSLCOffL7': 'False', 'landsatCollectionVersion': 'C2', 'origin': 'Landsat', 'performCloudScoreOffset': 'True', 'preComputedCloudScoreOffset': 'None', 'preComputedTDOMIRMean': 'None', 'preComputedTDOMIRStdDev': 'None', 'resampleMethod': 'near', 'shadowSumBands': \"['nir', 'swir1']\", 'startJulian': 1, 'startYear': 2015, 'toaOrSR': 'SR', 'verbose': 'False', 'wrapOffset': 0, 'zScoreThresh': -1}\n"
     ]
    }
   ],
   "source": [
    "#You can access the parameters that were used through the properties of the returned collection\n",
    "print(processedComposites.toDictionary().getInfo())\n",
    "print(processedScenes.toDictionary().getInfo())"
   ]
  },
  {
   "cell_type": "code",
   "execution_count": 12,
   "id": "0abae13d-4ad4-4d8b-9c59-8a27b818be9d",
   "metadata": {},
   "outputs": [
    {
     "name": "stdout",
     "output_type": "stream",
     "text": [
      "Get Processed Landsat: \n",
      "Start date: Jan 01 2015 , End date: Dec 30 2020\n",
      "Applying scale factors for C2 L4 data\n",
      "Applying scale factors for C2 L5 data\n",
      "Applying scale factors for C2 L8 data\n",
      "Including All Landsat 7\n",
      "Applying scale factors for C2 L7 data\n",
      "Applying scale factors for C2 L9 data\n",
      "Applying Fmask Cloud Mask\n",
      "Applying Fmask Shadow Mask\n",
      "Adding layer: L7 added 2015 1-365\n",
      "Adding layer: L7 added 2016 1-365\n",
      "Adding layer: L7 added 2017 1-365\n",
      "Adding layer: L7 added 2018 1-365\n",
      "Adding layer: L7 added 2019 1-365\n",
      "Adding layer: L7 added 2020 1-365\n",
      "Starting webmap\n",
      "Using default refresh token for geeView\n",
      "Local web server at: http://localhost:1984/geeView/ already serving.\n",
      "cwd /Users/jessieeastburn/Library/CloudStorage/OneDrive-UniversityofUtah/URSA_Work/TS2/PJ_TimeSeries\n",
      "geeView URL: http://localhost:1984/geeView/?projectID=None&accessToken=ya29.a0AfB_byDOmjeSYpUKuKEU1cugvOqmKYwo1rH_soz8QQ9r2SqDq8jeQoq7a14FkeMFAUB4jIHPjVNuoCDfyou0qyA7BJySKtG3ysrpJ484CUQwwWbcMz1yxYrudBJVJ8c-9F1n_tUB-F5vejTy-Vdx6ViTlHdKsl07qQEHPAaCgYKAU8SARISFQHGX2MiiJ8sizRQmUgWGyLzyPzTjg0173\n"
     ]
    },
    {
     "data": {
      "text/html": [
       "\n",
       "        <iframe\n",
       "            width=\"100%\"\n",
       "            height=\"525px\"\n",
       "            src=\"http://localhost:1984/geeView/?projectID=None&accessToken=ya29.a0AfB_byDOmjeSYpUKuKEU1cugvOqmKYwo1rH_soz8QQ9r2SqDq8jeQoq7a14FkeMFAUB4jIHPjVNuoCDfyou0qyA7BJySKtG3ysrpJ484CUQwwWbcMz1yxYrudBJVJ8c-9F1n_tUB-F5vejTy-Vdx6ViTlHdKsl07qQEHPAaCgYKAU8SARISFQHGX2MiiJ8sizRQmUgWGyLzyPzTjg0173\"\n",
       "            frameborder=\"0\"\n",
       "            allowfullscreen\n",
       "            \n",
       "        ></iframe>\n",
       "        "
      ],
      "text/plain": [
       "<IPython.lib.display.IFrame at 0x1044afe50>"
      ]
     },
     "metadata": {},
     "output_type": "display_data"
    },
    {
     "name": "stderr",
     "output_type": "stream",
     "text": [
      "::1 - - [19/Feb/2024 20:45:34] \"GET /geeView/?projectID=None&accessToken=ya29.a0AfB_byDOmjeSYpUKuKEU1cugvOqmKYwo1rH_soz8QQ9r2SqDq8jeQoq7a14FkeMFAUB4jIHPjVNuoCDfyou0qyA7BJySKtG3ysrpJ484CUQwwWbcMz1yxYrudBJVJ8c-9F1n_tUB-F5vejTy-Vdx6ViTlHdKsl07qQEHPAaCgYKAU8SARISFQHGX2MiiJ8sizRQmUgWGyLzyPzTjg0173 HTTP/1.1\" 200 -\n",
      "::1 - - [19/Feb/2024 20:45:34] \"GET /geeView/src/gee/gee-run/runGeeViz.js HTTP/1.1\" 200 -\n"
     ]
    }
   ],
   "source": [
    "#Since there are not that many images available in this area for these years, let's try adding Landsat 7\n",
    "includeSLCOffL7 = True\n",
    "#Call on master wrapper function to get Landat scenes and composites\n",
    "lsAndTs = getImagesLib.getLandsatWrapper(studyArea,startYear,endYear,startJulian,endJulian,includeSLCOffL7=includeSLCOffL7)\n",
    "\n",
    "#Separate into scenes and composites for subsequent analysis\n",
    "processedScenes = lsAndTs['processedScenes']\n",
    "processedComposites = lsAndTs['processedComposites']\n",
    "\n",
    "Map.clearMap()\n",
    "#Turn off layers from previous iteration\n",
    "Map.turnOffAllLayers()\n",
    "\n",
    "# Map.addLayer(processedComposites.select(['NDVI','NBR']),{'addToLegend':'false'},'Time Series (NBR and NDVI)',False)\n",
    "for year in range(startYear,endYear + 1 ):\n",
    "     t = processedComposites.filter(ee.Filter.calendarRange(year,year,'year')).mosaic()\n",
    "     Map.addLayer(t.float(),getImagesLib.vizParamsFalse,'L7 added {} {}-{}'.format(year,startJulian,endJulian),'True')\n",
    "\n",
    "\n",
    "Map.view()\n",
    "\n",
    "#You'll notice this helps fill in the holes, but introduces many cloud-related artifacts"
   ]
  },
  {
   "cell_type": "code",
   "execution_count": 24,
   "id": "8abf3af0-37b0-4b68-b121-e797b9259057",
   "metadata": {},
   "outputs": [
    {
     "data": {
      "text/html": [
       "\n",
       "            <style>\n",
       "                .geemap-dark {\n",
       "                    --jp-widgets-color: white;\n",
       "                    --jp-widgets-label-color: white;\n",
       "                    --jp-ui-font-color1: white;\n",
       "                    --jp-layout-color2: #454545;\n",
       "                    background-color: #383838;\n",
       "                }\n",
       "                    \n",
       "                .geemap-dark .jupyter-button {\n",
       "                    --jp-layout-color3: #383838;\n",
       "                }\n",
       "                \n",
       "                .geemap-colab {\n",
       "                    background-color: var(--colab-primary-surface-color, white);\n",
       "                }\n",
       "                    \n",
       "                .geemap-colab .jupyter-button {\n",
       "                    --jp-layout-color3: var(--colab-primary-surface-color, white);\n",
       "                }\n",
       "            </style>\n",
       "            "
      ],
      "text/plain": [
       "<IPython.core.display.HTML object>"
      ]
     },
     "metadata": {},
     "output_type": "display_data"
    },
    {
     "name": "stdout",
     "output_type": "stream",
     "text": [
      "Get Processed Landsat: \n",
      "Start date: Jan 01 2015 , End date: Dec 30 2020\n",
      "Applying scale factors for C2 L4 data\n",
      "Applying scale factors for C2 L5 data\n",
      "Applying scale factors for C2 L8 data\n",
      "Including All Landsat 7\n",
      "Applying scale factors for C2 L7 data\n",
      "Applying scale factors for C2 L9 data\n",
      "Applying Cloud Score\n",
      "Computing cloudScore offset\n",
      "Applying Fmask Cloud Mask\n",
      "Applying Fmask Shadow Mask\n",
      "Adding layer: Time Series (NBR and NDVI)\n",
      "Adding layer: L7 and CloudScore added 2015 1-365\n",
      "Adding layer: L7 and CloudScore added 2016 1-365\n",
      "Adding layer: L7 and CloudScore added 2017 1-365\n",
      "Adding layer: L7 and CloudScore added 2018 1-365\n",
      "Adding layer: L7 and CloudScore added 2019 1-365\n",
      "Adding layer: L7 and CloudScore added 2020 1-365\n",
      "Starting webmap\n",
      "Using default refresh token for geeView\n",
      "Local web server at: http://localhost:5732/geeView/ already serving.\n",
      "cwd /Users/jessieeastburn/Library/CloudStorage/OneDrive-UniversityofUtah/URSA_Work/TS2\n",
      "geeView URL: http://localhost:5732/geeView/?projectID=None&accessToken=ya29.a0AfB_byDBlpDJNk-gY9XOPy40wzeYSAkASuhV7SFIivMVOWg0G1EveDAYuHOInfz5loRsQB8b1YaK10IzFX3XvJ47uaDZZL-5v5rttheaRW9_2GZt_owMnNHhbpEGWnnwjSp7AxP69ahiFJ3IiTERErGSAi0PaALtQdPNaCgYKAXsSARISFQHGX2MiEZikphsRbhSEEeIOTJ23sQ0171\n"
     ]
    },
    {
     "data": {
      "text/html": [
       "\n",
       "        <iframe\n",
       "            width=\"100%\"\n",
       "            height=\"525px\"\n",
       "            src=\"http://localhost:5732/geeView/?projectID=None&accessToken=ya29.a0AfB_byDBlpDJNk-gY9XOPy40wzeYSAkASuhV7SFIivMVOWg0G1EveDAYuHOInfz5loRsQB8b1YaK10IzFX3XvJ47uaDZZL-5v5rttheaRW9_2GZt_owMnNHhbpEGWnnwjSp7AxP69ahiFJ3IiTERErGSAi0PaALtQdPNaCgYKAXsSARISFQHGX2MiEZikphsRbhSEEeIOTJ23sQ0171\"\n",
       "            frameborder=\"0\"\n",
       "            allowfullscreen\n",
       "            \n",
       "        ></iframe>\n",
       "        "
      ],
      "text/plain": [
       "<IPython.lib.display.IFrame at 0x1279d4990>"
      ]
     },
     "metadata": {},
     "output_type": "display_data"
    },
    {
     "name": "stderr",
     "output_type": "stream",
     "text": [
      "::1 - - [16/Feb/2024 14:07:39] \"GET /geeView/?projectID=None&accessToken=ya29.a0AfB_byDBlpDJNk-gY9XOPy40wzeYSAkASuhV7SFIivMVOWg0G1EveDAYuHOInfz5loRsQB8b1YaK10IzFX3XvJ47uaDZZL-5v5rttheaRW9_2GZt_owMnNHhbpEGWnnwjSp7AxP69ahiFJ3IiTERErGSAi0PaALtQdPNaCgYKAXsSARISFQHGX2MiEZikphsRbhSEEeIOTJ23sQ0171 HTTP/1.1\" 200 -\n",
      "::1 - - [16/Feb/2024 14:07:39] \"GET /geeView/src/gee/gee-run/runGeeViz.js HTTP/1.1\" 200 -\n"
     ]
    }
   ],
   "source": [
    "#Let's try to improve the cloud masking. Fmask is used by default, but misses some clouds\n",
    "#We'll try the adding in the cloudScore method\n",
    "applyCloudScore = True\n",
    "\n",
    "#Call on master wrapper function to get Landat scenes and composites\n",
    "lsAndTs = getImagesLib.getLandsatWrapper(studyArea,startYear,endYear,startJulian,endJulian,includeSLCOffL7=includeSLCOffL7,applyCloudScore=applyCloudScore)\n",
    "\n",
    "\n",
    "#Separate into scenes and composites for subsequent analysis\n",
    "processedScenes = lsAndTs['processedScenes']\n",
    "processedComposites = lsAndTs['processedComposites']\n",
    "\n",
    "#Turn off layers from previous iteration\n",
    "Map.turnOffAllLayers()\n",
    "\n",
    "Map.addLayer(processedComposites.select(['NDVI','NBR']),{'addToLegend':'true'},'Time Series (NBR and NDVI)',True)\n",
    "for year in range(startYear,endYear + 1 ):\n",
    "     t = processedComposites.filter(ee.Filter.calendarRange(year,year,'year')).mosaic()\n",
    "     Map.addLayer(t.float(),getImagesLib.vizParamsFalse,'L7 and CloudScore added {} {}-{}'.format(year,startJulian,endJulian),'True')\n",
    "\n",
    "\n",
    "Map.view()\n",
    "\n",
    "#You'll notice this cleans up the cloud masking a lot"
   ]
  },
  {
   "cell_type": "code",
   "execution_count": null,
   "id": "cdfa4e82-a585-4967-b975-7ba4829a7d43",
   "metadata": {},
   "outputs": [],
   "source": [
    "#You'll still notice there are some dark areas likely due to cloud shadow masking omission\n",
    "#Fmasks's cloud shadow mask misses a lot typically. A temporal outlier method called the \n",
    "#Temporal Dark Outlier Mask (TDOM) works well with masking cloud shadows\n",
    "\n",
    "#We'll try the cloudScore method\n",
    "applyTDOM = True\n",
    "\n",
    "#Call on master wrapper function to get Landat scenes and composites\n",
    "#In order to identify dark outliers, we will extend the dates by 6 years to get a larger sample\n",
    "lsAndTs = getImagesLib.getLandsatWrapper(studyArea,startYear-3,endYear+3,startJulian,endJulian,includeSLCOffL7=includeSLCOffL7,applyCloudScore=applyCloudScore,applyTDOM=applyTDOM)\n",
    "\n",
    "\n",
    "#Separate into scenes and composites for subsequent analysis\n",
    "processedScenes = lsAndTs['processedScenes']\n",
    "processedComposites = lsAndTs['processedComposites']\n",
    "\n",
    "#Turn off layers from previous iteration\n",
    "Map.turnOffAllLayers()\n",
    "\n",
    "Map.addLayer(processedComposites.select(['NDVI','NBR']),{'addToLegend':'false'},'Time Series (NBR and NDVI)',True)\n",
    "for year in range(startYear,endYear + 1 ):\n",
    "     t = processedComposites.filter(ee.Filter.calendarRange(year,year,'year')).mosaic()\n",
    "     Map.addLayer(t.float(),getImagesLib.vizParamsFalse,'CloudScore and TDOM added {} {}-{}'.format(year,startJulian,endJulian),'True')\n",
    "\n",
    "\n",
    "Map.view()\n",
    "\n",
    "#You'll notice this cleans up the cloud masking a lot"
   ]
  },
  {
   "cell_type": "code",
   "execution_count": 25,
   "id": "cbc7c1e5-4452-4941-81c9-102123c1ed90",
   "metadata": {},
   "outputs": [
    {
     "data": {
      "text/html": [
       "\n",
       "            <style>\n",
       "                .geemap-dark {\n",
       "                    --jp-widgets-color: white;\n",
       "                    --jp-widgets-label-color: white;\n",
       "                    --jp-ui-font-color1: white;\n",
       "                    --jp-layout-color2: #454545;\n",
       "                    background-color: #383838;\n",
       "                }\n",
       "                    \n",
       "                .geemap-dark .jupyter-button {\n",
       "                    --jp-layout-color3: #383838;\n",
       "                }\n",
       "                \n",
       "                .geemap-colab {\n",
       "                    background-color: var(--colab-primary-surface-color, white);\n",
       "                }\n",
       "                    \n",
       "                .geemap-colab .jupyter-button {\n",
       "                    --jp-layout-color3: var(--colab-primary-surface-color, white);\n",
       "                }\n",
       "            </style>\n",
       "            "
      ],
      "text/plain": [
       "<IPython.core.display.HTML object>"
      ]
     },
     "metadata": {},
     "output_type": "display_data"
    },
    {
     "name": "stdout",
     "output_type": "stream",
     "text": [
      "Get Processed Landsat: \n",
      "Start date: Jan 01 2015 , End date: Dec 30 2020\n",
      "Applying scale factors for C2 L4 data\n",
      "Applying scale factors for C2 L5 data\n",
      "Defringing L4 and L5\n",
      "Applying scale factors for C2 L8 data\n",
      "Only including SLC On Landsat 7\n",
      "Applying scale factors for C2 L7 data\n",
      "Applying scale factors for C2 L9 data\n",
      "Applying Cloud Score\n",
      "Not computing cloudScore offset\n",
      "Applying Fmask Cloud Mask\n",
      "Applying TDOM Shadow Mask\n",
      "Computing irMean for TDOM\n",
      "Computing irStdDev for TDOM\n",
      "Applying Fmask Shadow Mask\n",
      "Adding layer: Time Series (NBR and NDVI)\n",
      "Adding layer: CloudScore and TDOM added 2015 1-365\n",
      "Adding layer: CloudScore and TDOM added 2016 1-365\n",
      "Adding layer: CloudScore and TDOM added 2017 1-365\n",
      "Adding layer: CloudScore and TDOM added 2018 1-365\n",
      "Adding layer: CloudScore and TDOM added 2019 1-365\n",
      "Adding layer: CloudScore and TDOM added 2020 1-365\n",
      "Starting webmap\n",
      "Using default refresh token for geeView\n",
      "Local web server at: http://localhost:5732/geeView/ already serving.\n",
      "cwd /Users/jessieeastburn/Library/CloudStorage/OneDrive-UniversityofUtah/URSA_Work/TS2\n",
      "geeView URL: http://localhost:5732/geeView/?projectID=None&accessToken=ya29.a0AfB_byCx6mXkNRjszUmIekJNU2LkiSfsq2lmZcse4MeY02M55qOiqHs9rby4ib5aZvcjpHXtEGTmbyGSvA3vWhlsnK-vvZ6GiCUbm12ImuCWzdoGkJzzsPoZ4qKGfORCuR_OcNMhEUnXKBQObIRqOQai7OQzkeITcakGaCgYKAX8SARISFQHGX2Mi_8E1Odkie3HTx8Pn-15lZg0171\n"
     ]
    },
    {
     "data": {
      "text/html": [
       "\n",
       "        <iframe\n",
       "            width=\"100%\"\n",
       "            height=\"525px\"\n",
       "            src=\"http://localhost:5732/geeView/?projectID=None&accessToken=ya29.a0AfB_byCx6mXkNRjszUmIekJNU2LkiSfsq2lmZcse4MeY02M55qOiqHs9rby4ib5aZvcjpHXtEGTmbyGSvA3vWhlsnK-vvZ6GiCUbm12ImuCWzdoGkJzzsPoZ4qKGfORCuR_OcNMhEUnXKBQObIRqOQai7OQzkeITcakGaCgYKAX8SARISFQHGX2Mi_8E1Odkie3HTx8Pn-15lZg0171\"\n",
       "            frameborder=\"0\"\n",
       "            allowfullscreen\n",
       "            \n",
       "        ></iframe>\n",
       "        "
      ],
      "text/plain": [
       "<IPython.lib.display.IFrame at 0x12790cc10>"
      ]
     },
     "metadata": {},
     "output_type": "display_data"
    },
    {
     "name": "stdout",
     "output_type": "stream",
     "text": [
      "Done\n"
     ]
    },
    {
     "name": "stderr",
     "output_type": "stream",
     "text": [
      "::1 - - [16/Feb/2024 14:23:44] \"GET /geeView/?projectID=None&accessToken=ya29.a0AfB_byCx6mXkNRjszUmIekJNU2LkiSfsq2lmZcse4MeY02M55qOiqHs9rby4ib5aZvcjpHXtEGTmbyGSvA3vWhlsnK-vvZ6GiCUbm12ImuCWzdoGkJzzsPoZ4qKGfORCuR_OcNMhEUnXKBQObIRqOQai7OQzkeITcakGaCgYKAX8SARISFQHGX2Mi_8E1Odkie3HTx8Pn-15lZg0171 HTTP/1.1\" 200 -\n",
      "::1 - - [16/Feb/2024 14:23:44] \"GET /geeView/src/styles/style.min.css HTTP/1.1\" 304 -\n",
      "::1 - - [16/Feb/2024 14:23:44] \"GET /geeView/src/js/load.min.js HTTP/1.1\" 304 -\n",
      "::1 - - [16/Feb/2024 14:23:44] \"GET /geeView/src/js/lcms-viewer.min.js HTTP/1.1\" 304 -\n",
      "::1 - - [16/Feb/2024 14:23:44] \"GET /geeView/src/js/gena-gee-palettes.js HTTP/1.1\" 304 -\n",
      "::1 - - [16/Feb/2024 14:23:44] \"GET /geeView/src/gee/gee-run/runGeeViz.js HTTP/1.1\" 200 -\n",
      "::1 - - [16/Feb/2024 14:23:44] \"GET /geeView/src/assets/images/GEE.png HTTP/1.1\" 304 -\n",
      "::1 - - [16/Feb/2024 14:23:44] \"GET /geeView/src/assets/images/usfslogo.png HTTP/1.1\" 304 -\n",
      "::1 - - [16/Feb/2024 14:23:44] \"GET /geeView/src/assets/images/usdalogo.png HTTP/1.1\" 304 -\n",
      "::1 - - [16/Feb/2024 14:23:44] \"GET /geeView/src/assets/images/menu-hamburger_ffffff.svg HTTP/1.1\" 304 -\n",
      "::1 - - [16/Feb/2024 14:23:44] \"GET /geeView/src/assets/images/logos_usda-fs.svg HTTP/1.1\" 304 -\n",
      "::1 - - [16/Feb/2024 14:23:44] \"GET /geeView/src/assets/images/layer_icon.png HTTP/1.1\" 304 -\n",
      "::1 - - [16/Feb/2024 14:23:44] \"GET /geeView/src/assets/images/GEE_logo_transparent.png HTTP/1.1\" 304 -\n"
     ]
    }
   ],
   "source": [
    "# Run get images, set parameters manually, and export\n",
    "lsAndTs = getImagesLib.getLandsatWrapper(\\\n",
    "\n",
    "    # Study area and time\n",
    "    studyArea = studyArea,\n",
    "    startYear = 2015,\n",
    "    endYear = 2020,\n",
    "    startJulian = 1,\n",
    "    endJulian = 365,\n",
    "\n",
    "    # Moving window options\n",
    "    timebuffer =  0,# If multi-year moving window is needed, use timebuffer > 0 (e.g. timebuffer = 1 will result in a 3 year moving window)\n",
    "    weights =  [1],# To compliment the timebuffer, set weights for each year of the moving window. This enables the center year to have more weight (e.g. [1,3,1] would weight the center year if timebuffer = 1 3x over the buffer years)\n",
    "\n",
    "    # Composite methods and input imagery\n",
    "    compositingMethod = 'medoid', # Specify median or medoid. Medoid allows for storing only the spectral and ancillary bands without indices\n",
    "    toaOrSR = 'SR', # It is advised to only use TOA when combining Landsat and Sentinel-2 since the Sentinel-2 SR data in GEE are terrain-corrected and Landsat are not\n",
    "    includeSLCOffL7 = False, # Whether to include Landsat 7 after May 2003. Scanline artifacts can be found in composites when True\n",
    "    defringeL5 = True, # Whether to get rid of fringe edges found mostly on Landsat 4 and 5\n",
    "    landsatCollectionVersion = 'C2', # To use Collection 1 or 2. Only use C1 if doing legacy work prior to 2022\n",
    "\n",
    "    # Cloud and shadow masking\n",
    "    # There will be a parameter for applying CloudScore+ to Sentinel-2 provided once it is available for all S2 data\n",
    "    applyCloudScore = True, # We use this since fMask struggles for cloud masking\n",
    "    applyTDOM = True, # We use TDOM for Landsat since the fMask cloud shadow masking method struggles a lot\n",
    "    applyFmaskCloudMask = True,\n",
    "    applyFmaskCloudShadowMask = True,\n",
    "    applyFmaskSnowMask = False,\n",
    "    cloudScoreThresh = 10,# The threshold applied to the cloudScore for Landsat and/or Sentinel-2\n",
    "    performCloudScoreOffset = False,# Set this to False in areas with limited data and/or limited bright cool surfaces\n",
    "    cloudScorePctl = 10, # If performCloudScoreOffset is set to True, this is the percentile of the cloudScores used to see if an area typically has a high cloudScore\n",
    "    zScoreThresh = -1, # The TDOM Z-score threshold for finding dark outliers\n",
    "    shadowSumThresh = 0.35,# The sum of the shadowSumBands has to be below this to be considered dark\n",
    "    contractPixels = 1.5,# Inward buffer pixel radius to get rid of salt and pepper\n",
    "    dilatePixels = 3.5, # Outwoard buffer pixel radius to dilate the cloud shadow mask by\n",
    "\n",
    "    # Image processing\n",
    "    correctIllumination = False, # Method for illuminating hill shadows. This is largely deprecated and not used\n",
    "    correctScale = 250,\n",
    "\n",
    "    # Export parameters\n",
    "    exportComposites = False,# Whether to export resulting composites exportCompositeCollection\n",
    "    outputName = 'Landsat-UTKA',\n",
    "  #  exportPathRoot = 'projects/disco-glass-413820/assets/users/lcms-training_module-2_composites', #'content/drive/MyDrive/lcms-training_module-2_composites',used this i think #'projects/resolute-future-412019/assets/users/lcms-training_module-2_composites', og directory #'projects/earthengine-public/assets/content/drive/MyDrive/lcms-training_module-2_composites',\n",
    "    crs = 'EPSG:4326',\n",
    "    #transform = getImagesLib.common_projections['NLCD_CONUS']['transform'],\n",
    "    transform = None)\n",
    " #   scale = None,\n",
    "  #  overwrite = True,# Whether to overwrite existing composites\n",
    "\n",
    "    #Separate into scenes and composites for subsequent analysis\n",
    "processedScenes = lsAndTs['processedScenes']\n",
    "processedComposites = lsAndTs['processedComposites']\n",
    "\n",
    "#Turn off layers from previous iteration\n",
    "Map.turnOffAllLayers()\n",
    "\n",
    "Map.addLayer(processedComposites.select(['NDVI','NBR']),{'addToLegend':'false'},'Time Series (NBR and NDVI)',True)\n",
    "for year in range(startYear,endYear + 1 ):\n",
    "     t = processedComposites.filter(ee.Filter.calendarRange(year,year,'year')).mosaic()\n",
    "     Map.addLayer(t.float(),getImagesLib.vizParamsFalse,'CloudScore and TDOM added {} {}-{}'.format(year,startJulian,endJulian),'True')\n",
    "\n",
    "Map.turnOnInspector()\n",
    "Map.view()\n",
    "print('Done')"
   ]
  },
  {
   "cell_type": "code",
   "execution_count": 26,
   "id": "f6738676-193b-409b-b271-ae85bd553bd9",
   "metadata": {},
   "outputs": [
    {
     "data": {
      "text/html": [
       "\n",
       "            <style>\n",
       "                .geemap-dark {\n",
       "                    --jp-widgets-color: white;\n",
       "                    --jp-widgets-label-color: white;\n",
       "                    --jp-ui-font-color1: white;\n",
       "                    --jp-layout-color2: #454545;\n",
       "                    background-color: #383838;\n",
       "                }\n",
       "                    \n",
       "                .geemap-dark .jupyter-button {\n",
       "                    --jp-layout-color3: #383838;\n",
       "                }\n",
       "                \n",
       "                .geemap-colab {\n",
       "                    background-color: var(--colab-primary-surface-color, white);\n",
       "                }\n",
       "                    \n",
       "                .geemap-colab .jupyter-button {\n",
       "                    --jp-layout-color3: var(--colab-primary-surface-color, white);\n",
       "                }\n",
       "            </style>\n",
       "            "
      ],
      "text/plain": [
       "<IPython.core.display.HTML object>"
      ]
     },
     "metadata": {},
     "output_type": "display_data"
    },
    {
     "name": "stdout",
     "output_type": "stream",
     "text": [
      "Adding layer: Time Series (NBR and NDVI)\n",
      "Adding layer: CloudScore and TDOM added 2015 1-365\n",
      "Adding layer: CloudScore and TDOM added 2016 1-365\n",
      "Adding layer: CloudScore and TDOM added 2017 1-365\n",
      "Adding layer: CloudScore and TDOM added 2018 1-365\n",
      "Adding layer: CloudScore and TDOM added 2019 1-365\n",
      "Adding layer: CloudScore and TDOM added 2020 1-365\n",
      "Starting webmap\n",
      "Using default refresh token for geeView\n",
      "Local web server at: http://localhost:5732/geeView/ already serving.\n",
      "cwd /Users/jessieeastburn/Library/CloudStorage/OneDrive-UniversityofUtah/URSA_Work/TS2\n",
      "geeView URL: http://localhost:5732/geeView/?projectID=None&accessToken=ya29.a0AfB_byArt8O6WKkecsSmauBpEcNxGxUt26B5q2pJNImv4zdlLap8OFiD8NvEisbFUT4njtK4EeIsCxiPUZ7V-rMlrmfgxaQ-XlXkesBz75dDS7Jb5WCJ5AvF8ChE-fmsrixY6j06UIwotHLoE6xVtThVRpOmFmgbX6xqaCgYKAawSARISFQHGX2MiyAhw0b0AJDD-bZrr4RagNA0171\n"
     ]
    },
    {
     "data": {
      "text/html": [
       "\n",
       "        <iframe\n",
       "            width=\"100%\"\n",
       "            height=\"525px\"\n",
       "            src=\"http://localhost:5732/geeView/?projectID=None&accessToken=ya29.a0AfB_byArt8O6WKkecsSmauBpEcNxGxUt26B5q2pJNImv4zdlLap8OFiD8NvEisbFUT4njtK4EeIsCxiPUZ7V-rMlrmfgxaQ-XlXkesBz75dDS7Jb5WCJ5AvF8ChE-fmsrixY6j06UIwotHLoE6xVtThVRpOmFmgbX6xqaCgYKAawSARISFQHGX2MiyAhw0b0AJDD-bZrr4RagNA0171\"\n",
       "            frameborder=\"0\"\n",
       "            allowfullscreen\n",
       "            \n",
       "        ></iframe>\n",
       "        "
      ],
      "text/plain": [
       "<IPython.lib.display.IFrame at 0x12650bdd0>"
      ]
     },
     "metadata": {},
     "output_type": "display_data"
    },
    {
     "name": "stdout",
     "output_type": "stream",
     "text": [
      "Done\n"
     ]
    },
    {
     "name": "stderr",
     "output_type": "stream",
     "text": [
      "::1 - - [16/Feb/2024 14:26:39] \"GET /geeView/?projectID=None&accessToken=ya29.a0AfB_byArt8O6WKkecsSmauBpEcNxGxUt26B5q2pJNImv4zdlLap8OFiD8NvEisbFUT4njtK4EeIsCxiPUZ7V-rMlrmfgxaQ-XlXkesBz75dDS7Jb5WCJ5AvF8ChE-fmsrixY6j06UIwotHLoE6xVtThVRpOmFmgbX6xqaCgYKAawSARISFQHGX2MiyAhw0b0AJDD-bZrr4RagNA0171 HTTP/1.1\" 200 -\n",
      "::1 - - [16/Feb/2024 14:26:39] \"GET /geeView/src/gee/gee-run/runGeeViz.js HTTP/1.1\" 200 -\n"
     ]
    }
   ],
   "source": [
    "\n",
    "#Turn off layers from previous iteration\n",
    "Map.turnOffAllLayers()\n",
    "\n",
    "Map.addLayer(processedComposites.select(['NDVI','NBR']),{'addToLegend':'false'},'Time Series (NBR and NDVI)',True)\n",
    "for year in range(startYear,endYear + 1 ):\n",
    "     t = processedComposites.filter(ee.Filter.calendarRange(year,year,'year')).mosaic()\n",
    "     Map.addLayer(t.float(),getImagesLib.vizParamsFalse,'CloudScore and TDOM added {} {}-{}'.format(year,startJulian,endJulian),'True')\n",
    "\n",
    "Map.turnOnInspector()\n",
    "Map.view()\n",
    "print('Done')"
   ]
  },
  {
   "cell_type": "code",
   "execution_count": 13,
   "id": "6050c57c",
   "metadata": {},
   "outputs": [],
   "source": [
    "utka_composites = ee.ImageCollection(\"projects/disco-glass-413820/assets/users/UTKA_composites2\")"
   ]
  },
  {
   "cell_type": "code",
   "execution_count": 18,
   "id": "fc1700cf",
   "metadata": {},
   "outputs": [
    {
     "name": "stdout",
     "output_type": "stream",
     "text": [
      "Adding layer: Time Series (NBR and NDVI)\n",
      "Adding layer: CloudScore + TDOM 2015 1-365\n",
      "Adding layer: CloudScore + TDOM 2016 1-365\n",
      "Adding layer: CloudScore + TDOM 2017 1-365\n",
      "Adding layer: CloudScore + TDOM 2018 1-365\n",
      "Adding layer: CloudScore + TDOM 2019 1-365\n",
      "Adding layer: CloudScore + TDOM 2020 1-365\n",
      "Adding layer: UTKA Boundary\n",
      "Starting webmap\n",
      "Using default refresh token for geeView\n",
      "Local web server at: http://localhost:1985/geeView/ already serving.\n",
      "cwd /Users/jessieeastburn/Library/CloudStorage/OneDrive-UniversityofUtah/URSA_Work/TS2/PJ_TimeSeries\n",
      "geeView URL: http://localhost:1985/geeView/?projectID=None&accessToken=ya29.a0AfB_byBytggXvpB7MybAO1MulrFMJJWS8NPXET2IJIXUy7qcMuRX550qVC57Aeq6TrVI-dK9rTiAJFGxN5vjNZNXjf7vHM7-49jFKAsVHMhQir2kxA4WBjdzcGqWzOvm1HPHzw8CBUPUmSFcQnCvRuQdsWqJ2UvEtJv0lwaCgYKAdUSARISFQHGX2Mienmh_k6cOGimiMsbwMIVww0173\n"
     ]
    },
    {
     "data": {
      "text/html": [
       "\n",
       "        <iframe\n",
       "            width=\"100%\"\n",
       "            height=\"525px\"\n",
       "            src=\"http://localhost:1985/geeView/?projectID=None&accessToken=ya29.a0AfB_byBytggXvpB7MybAO1MulrFMJJWS8NPXET2IJIXUy7qcMuRX550qVC57Aeq6TrVI-dK9rTiAJFGxN5vjNZNXjf7vHM7-49jFKAsVHMhQir2kxA4WBjdzcGqWzOvm1HPHzw8CBUPUmSFcQnCvRuQdsWqJ2UvEtJv0lwaCgYKAdUSARISFQHGX2Mienmh_k6cOGimiMsbwMIVww0173\"\n",
       "            frameborder=\"0\"\n",
       "            allowfullscreen\n",
       "            \n",
       "        ></iframe>\n",
       "        "
      ],
      "text/plain": [
       "<IPython.lib.display.IFrame at 0x10a9e7b20>"
      ]
     },
     "metadata": {},
     "output_type": "display_data"
    },
    {
     "name": "stdout",
     "output_type": "stream",
     "text": [
      "Done\n"
     ]
    },
    {
     "name": "stderr",
     "output_type": "stream",
     "text": [
      "::1 - - [19/Feb/2024 21:02:02] \"GET /geeView/?projectID=None&accessToken=ya29.a0AfB_byBytggXvpB7MybAO1MulrFMJJWS8NPXET2IJIXUy7qcMuRX550qVC57Aeq6TrVI-dK9rTiAJFGxN5vjNZNXjf7vHM7-49jFKAsVHMhQir2kxA4WBjdzcGqWzOvm1HPHzw8CBUPUmSFcQnCvRuQdsWqJ2UvEtJv0lwaCgYKAdUSARISFQHGX2Mienmh_k6cOGimiMsbwMIVww0173 HTTP/1.1\" 200 -\n",
      "::1 - - [19/Feb/2024 21:02:03] \"GET /geeView/src/gee/gee-run/runGeeViz.js HTTP/1.1\" 200 -\n"
     ]
    }
   ],
   "source": [
    "\n",
    "Map.port = 1985\n",
    "Map.clearMap()\n",
    "\n",
    "#Turn off layers from previous iteration\n",
    "Map.turnOffAllLayers()\n",
    "\n",
    "Map.addLayer(utka_composites.select(['NDVI','NBR']),{'addToLegend':'false'},'Time Series (NBR and NDVI)',True)\n",
    "for year in range(startYear,endYear + 1 ):\n",
    "     t = utka_composites.filter(ee.Filter.calendarRange(year,year,'year')).mosaic()\n",
    "     Map.addLayer(t.float(),getImagesLib.vizParamsFalse,'CloudScore + TDOM {} {}-{}'.format(year,startJulian,endJulian),'True')\n",
    "Map.centerObject(studyArea, 10)\n",
    "Map.addLayer(studyArea, {'color': 'blue'}, 'UTKA Boundary')\n",
    "Map.turnOnInspector()\n",
    "Map.view()\n",
    "print('Done')"
   ]
  }
 ],
 "metadata": {
  "kernelspec": {
   "display_name": "Python 3 (ipykernel)",
   "language": "python",
   "name": "python3"
  },
  "language_info": {
   "codemirror_mode": {
    "name": "ipython",
    "version": 3
   },
   "file_extension": ".py",
   "mimetype": "text/x-python",
   "name": "python",
   "nbconvert_exporter": "python",
   "pygments_lexer": "ipython3",
   "version": "3.9.6"
  }
 },
 "nbformat": 4,
 "nbformat_minor": 5
}
