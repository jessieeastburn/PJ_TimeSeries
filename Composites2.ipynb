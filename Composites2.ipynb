{
 "cells": [
  {
   "cell_type": "code",
   "execution_count": 1,
   "metadata": {},
   "outputs": [
    {
     "name": "stderr",
     "output_type": "stream",
     "text": [
      "/Users/jessieeastburn/Library/Python/3.9/lib/python/site-packages/urllib3/__init__.py:35: NotOpenSSLWarning: urllib3 v2 only supports OpenSSL 1.1.1+, currently the 'ssl' module is compiled with 'LibreSSL 2.8.3'. See: https://github.com/urllib3/urllib3/issues/3020\n",
      "  warnings.warn(\n"
     ]
    },
    {
     "name": "stdout",
     "output_type": "stream",
     "text": [
      "Initializing GEE\n",
      "Successfully initialized\n",
      "geeViz package folder: /Users/jessieeastburn/Library/Python/3.9/lib/python/site-packages/geeViz\n",
      "done\n"
     ]
    }
   ],
   "source": [
    "import os,sys\n",
    "sys.path.append(os.getcwd())\n",
    "\n",
    "#Module imports\n",
    "import geeViz.getImagesLib as getImagesLib\n",
    "ee = getImagesLib.ee\n",
    "Map = getImagesLib.Map\n",
    "\n",
    "print('done')"
   ]
  },
  {
   "cell_type": "code",
   "execution_count": 2,
   "metadata": {},
   "outputs": [
    {
     "name": "stderr",
     "output_type": "stream",
     "text": [
      "/var/folders/sf/r2b9cx3s6fl_d5hscrs0_44c0000gn/T/ipykernel_97938/518313686.py:1: DeprecationWarning: \n",
      "Pyarrow will become a required dependency of pandas in the next major release of pandas (pandas 3.0),\n",
      "(to allow more performant data types, such as the Arrow string type, and better interoperability with other libraries)\n",
      "but was not found to be installed on your system.\n",
      "If this would cause problems for you,\n",
      "please provide us feedback at https://github.com/pandas-dev/pandas/issues/54466\n",
      "        \n",
      "  import pandas as pd\n"
     ]
    }
   ],
   "source": [
    "import pandas as pd\n",
    "import time\n",
    "# Authenticate and initialize Earth Engine\n",
    "ee.Authenticate()\n",
    "ee.Initialize()"
   ]
  },
  {
   "cell_type": "code",
   "execution_count": 6,
   "metadata": {},
   "outputs": [
    {
     "name": "stdout",
     "output_type": "stream",
     "text": [
      "Adding layer: utka\n",
      "Starting webmap\n",
      "Using default refresh token for geeView\n",
      "Local web server at: http://localhost:1992/geeView/ already serving.\n",
      "cwd /Users/jessieeastburn/Library/CloudStorage/OneDrive-UniversityofUtah/URSA_Work/TS2/PJ_TimeSeries\n",
      "geeView URL: http://localhost:1992/geeView/?projectID=None&accessToken=ya29.a0AfB_byD8vaCIJorViR0m53PrxDtT2A5uHHYDCDy5nin9iugFs5dY5mKxTrQLTjjY8_qH7lwL6IEJ7_ffM4SzXiZoGgGFBYr63FKMFQBFwavPXCC6Y2SxIExittWoVFfZzgx2g_EkBjihPHJRVOXJ8aQ03MrbIeb0pkFOegaCgYKAWUSARISFQHGX2MiV09TnLjR_C8aSheIbz-Q1Q0173\n"
     ]
    },
    {
     "data": {
      "text/html": [
       "\n",
       "        <iframe\n",
       "            width=\"100%\"\n",
       "            height=\"525px\"\n",
       "            src=\"http://localhost:1992/geeView/?projectID=None&accessToken=ya29.a0AfB_byD8vaCIJorViR0m53PrxDtT2A5uHHYDCDy5nin9iugFs5dY5mKxTrQLTjjY8_qH7lwL6IEJ7_ffM4SzXiZoGgGFBYr63FKMFQBFwavPXCC6Y2SxIExittWoVFfZzgx2g_EkBjihPHJRVOXJ8aQ03MrbIeb0pkFOegaCgYKAWUSARISFQHGX2MiV09TnLjR_C8aSheIbz-Q1Q0173\"\n",
       "            frameborder=\"0\"\n",
       "            allowfullscreen\n",
       "            \n",
       "        ></iframe>\n",
       "        "
      ],
      "text/plain": [
       "<IPython.lib.display.IFrame at 0x11f14ce50>"
      ]
     },
     "metadata": {},
     "output_type": "display_data"
    },
    {
     "name": "stderr",
     "output_type": "stream",
     "text": [
      "::1 - - [21/Feb/2024 15:03:20] \"GET /geeView/?projectID=None&accessToken=ya29.a0AfB_byD8vaCIJorViR0m53PrxDtT2A5uHHYDCDy5nin9iugFs5dY5mKxTrQLTjjY8_qH7lwL6IEJ7_ffM4SzXiZoGgGFBYr63FKMFQBFwavPXCC6Y2SxIExittWoVFfZzgx2g_EkBjihPHJRVOXJ8aQ03MrbIeb0pkFOegaCgYKAWUSARISFQHGX2MiV09TnLjR_C8aSheIbz-Q1Q0173 HTTP/1.1\" 200 -\n",
      "::1 - - [21/Feb/2024 15:03:20] \"GET /geeView/src/gee/gee-run/runGeeViz.js HTTP/1.1\" 200 -\n",
      "::1 - - [21/Feb/2024 15:03:20] \"GET /geeView/src/js/load.min.js HTTP/1.1\" 200 -\n",
      "::1 - - [21/Feb/2024 15:03:20] \"GET /geeView/src/styles/style.min.css HTTP/1.1\" 200 -\n",
      "::1 - - [21/Feb/2024 15:03:20] \"GET /geeView/src/js/gena-gee-palettes.js HTTP/1.1\" 200 -\n",
      "::1 - - [21/Feb/2024 15:03:20] \"GET /geeView/src/js/lcms-viewer.min.js HTTP/1.1\" 200 -\n",
      "::1 - - [21/Feb/2024 15:03:20] \"GET /geeView/src/assets/images/GEE_logo_transparent.png HTTP/1.1\" 200 -\n",
      "::1 - - [21/Feb/2024 15:03:20] \"GET /geeView/src/assets/images/usfslogo.png HTTP/1.1\" 200 -\n",
      "::1 - - [21/Feb/2024 15:03:20] \"GET /geeView/src/assets/images/GEE.png HTTP/1.1\" 200 -\n",
      "::1 - - [21/Feb/2024 15:03:20] \"GET /geeView/src/assets/images/usdalogo.png HTTP/1.1\" 200 -\n",
      "::1 - - [21/Feb/2024 15:03:20] \"GET /geeView/src/assets/images/menu-hamburger_ffffff.svg HTTP/1.1\" 200 -\n",
      "::1 - - [21/Feb/2024 15:03:20] \"GET /geeView/src/assets/images/logos_usda-fs.svg HTTP/1.1\" 200 -\n",
      "::1 - - [21/Feb/2024 15:03:20] \"GET /geeView/src/assets/images/layer_icon.png HTTP/1.1\" 200 -\n"
     ]
    }
   ],
   "source": [
    "# Get utka polygon.\n",
    "studyArea = (\n",
    "    ee.FeatureCollection('projects/disco-glass-413820/assets/plot_min_bound_geom')\n",
    "    .filter(\"site_id == 'UOFU_UTKA'\")\n",
    "    .first()\n",
    "    .geometry()\n",
    ")\n",
    "\n",
    "Map.port = 1992\n",
    "Map.clearMap()\n",
    "\n",
    "studyArea = ee.Geometry.Polygon(\n",
    "            [[[-112.2647, 37.02876], \n",
    "              [-112.2647, 37.10894],\n",
    "              [-112.0867, 37.10894],\n",
    "              [-112.0867, 37.02876], \n",
    "              [-112.2647, 37.02876]]])\n",
    "Map.centerObject(studyArea, 11)\n",
    "Map.addLayer(studyArea, {'color': 'blue'}, 'utka')\n",
    "Map.view()\n"
   ]
  },
  {
   "cell_type": "code",
   "execution_count": 7,
   "metadata": {},
   "outputs": [
    {
     "name": "stdout",
     "output_type": "stream",
     "text": [
      "Get Processed Landsat: \n",
      "Start date: Jan 01 2015 , End date: Dec 30 2020\n",
      "Applying scale factors for C2 L4 data\n",
      "Applying scale factors for C2 L5 data\n",
      "Defringing L4 and L5\n",
      "Applying scale factors for C2 L8 data\n",
      "Only including SLC On Landsat 7\n",
      "Applying scale factors for C2 L7 data\n",
      "Applying scale factors for C2 L9 data\n",
      "Applying Cloud Score\n",
      "Not computing cloudScore offset\n",
      "Applying Fmask Cloud Mask\n",
      "Applying TDOM Shadow Mask\n",
      "Computing irMean for TDOM\n",
      "Computing irStdDev for TDOM\n",
      "Applying Fmask Shadow Mask\n",
      "Adding layer: UTKA2015\n",
      "Adding layer: UTKA2016\n",
      "Adding layer: UTKA2017\n",
      "Adding layer: UTKA2018\n",
      "Adding layer: UTKA2019\n",
      "Adding layer: UTKA2020\n",
      "Starting webmap\n",
      "Using default refresh token for geeView\n",
      "Local web server at: http://localhost:1992/geeView/ already serving.\n",
      "cwd /Users/jessieeastburn/Library/CloudStorage/OneDrive-UniversityofUtah/URSA_Work/TS2/PJ_TimeSeries\n",
      "geeView URL: http://localhost:1992/geeView/?projectID=None&accessToken=ya29.a0AfB_byAyWp6rkD4xmBLlR8urwaVRe0ouYFHcmwEAFSXKAVsebz8qeS8vI_-yYgGO4tz9jRNX0FJNmuUA8USOk_xP4qMyLfgf9Lg9PSLbyY7v5qv21I1Vfnh6APCCekadOwe4FsU2SmEOIy7mE0Gr4ctTl05HqU9I4JZDmwaCgYKAb8SARISFQHGX2MijOpkT6F953sRBkzMmGTWRQ0173\n"
     ]
    },
    {
     "data": {
      "text/html": [
       "\n",
       "        <iframe\n",
       "            width=\"100%\"\n",
       "            height=\"525px\"\n",
       "            src=\"http://localhost:1992/geeView/?projectID=None&accessToken=ya29.a0AfB_byAyWp6rkD4xmBLlR8urwaVRe0ouYFHcmwEAFSXKAVsebz8qeS8vI_-yYgGO4tz9jRNX0FJNmuUA8USOk_xP4qMyLfgf9Lg9PSLbyY7v5qv21I1Vfnh6APCCekadOwe4FsU2SmEOIy7mE0Gr4ctTl05HqU9I4JZDmwaCgYKAb8SARISFQHGX2MijOpkT6F953sRBkzMmGTWRQ0173\"\n",
       "            frameborder=\"0\"\n",
       "            allowfullscreen\n",
       "            \n",
       "        ></iframe>\n",
       "        "
      ],
      "text/plain": [
       "<IPython.lib.display.IFrame at 0x11f627250>"
      ]
     },
     "metadata": {},
     "output_type": "display_data"
    },
    {
     "name": "stdout",
     "output_type": "stream",
     "text": [
      "Done\n"
     ]
    },
    {
     "name": "stderr",
     "output_type": "stream",
     "text": [
      "::1 - - [21/Feb/2024 15:03:47] \"GET /geeView/?projectID=None&accessToken=ya29.a0AfB_byAyWp6rkD4xmBLlR8urwaVRe0ouYFHcmwEAFSXKAVsebz8qeS8vI_-yYgGO4tz9jRNX0FJNmuUA8USOk_xP4qMyLfgf9Lg9PSLbyY7v5qv21I1Vfnh6APCCekadOwe4FsU2SmEOIy7mE0Gr4ctTl05HqU9I4JZDmwaCgYKAb8SARISFQHGX2MijOpkT6F953sRBkzMmGTWRQ0173 HTTP/1.1\" 200 -\n",
      "::1 - - [21/Feb/2024 15:03:47] \"GET /geeView/src/gee/gee-run/runGeeViz.js HTTP/1.1\" 200 -\n"
     ]
    }
   ],
   "source": [
    "# Run get images, set parameters manually, and export\n",
    "lsAndTs = getImagesLib.getLandsatWrapper(\\\n",
    "\n",
    "    # Study area and time\n",
    "    studyArea = studyArea,\n",
    "    startYear = 2015,\n",
    "    endYear = 2020,\n",
    "    startJulian = 1,\n",
    "    endJulian = 365,\n",
    "\n",
    "    # Moving window options\n",
    "    timebuffer =  0,# If multi-year moving window is needed, use timebuffer > 0 (e.g. timebuffer = 1 will result in a 3 year moving window)\n",
    "    weights =  [1],# To compliment the timebuffer, set weights for each year of the moving window. This enables the center year to have more weight (e.g. [1,3,1] would weight the center year if timebuffer = 1 3x over the buffer years)\n",
    "\n",
    "    # Composite methods and input imagery\n",
    "    compositingMethod = 'medoid', # Specify median or medoid. Medoid allows for storing only the spectral and ancillary bands without indices\n",
    "    toaOrSR = 'SR', # It is advised to only use TOA when combining Landsat and Sentinel-2 since the Sentinel-2 SR data in GEE are terrain-corrected and Landsat are not\n",
    "    includeSLCOffL7 = False, # Whether to include Landsat 7 after May 2003. Scanline artifacts can be found in composites when True\n",
    "    defringeL5 = True, # Whether to get rid of fringe edges found mostly on Landsat 4 and 5\n",
    "    landsatCollectionVersion = 'C2', # To use Collection 1 or 2. Only use C1 if doing legacy work prior to 2022\n",
    "\n",
    "    # Cloud and shadow masking\n",
    "    # There will be a parameter for applying CloudScore+ to Sentinel-2 provided once it is available for all S2 data\n",
    "    applyCloudScore = True, # We use this since fMask struggles for cloud masking\n",
    "    applyTDOM = True, # We use TDOM for Landsat since the fMask cloud shadow masking method struggles a lot\n",
    "    applyFmaskCloudMask = True,\n",
    "    applyFmaskCloudShadowMask = True,\n",
    "    applyFmaskSnowMask = False,\n",
    "    cloudScoreThresh = 10,# The threshold applied to the cloudScore for Landsat and/or Sentinel-2\n",
    "    performCloudScoreOffset = False,# Set this to False in areas with limited data and/or limited bright cool surfaces\n",
    "    cloudScorePctl = 10, # If performCloudScoreOffset is set to True, this is the percentile of the cloudScores used to see if an area typically has a high cloudScore\n",
    "    zScoreThresh = -1, # The TDOM Z-score threshold for finding dark outliers\n",
    "    shadowSumThresh = 0.35,# The sum of the shadowSumBands has to be below this to be considered dark\n",
    "    contractPixels = 1.5,# Inward buffer pixel radius to get rid of salt and pepper\n",
    "    dilatePixels = 3.5, # Outwoard buffer pixel radius to dilate the cloud shadow mask by\n",
    "\n",
    "    # Image processing\n",
    "    correctIllumination = False, # Method for illuminating hill shadows. This is largely deprecated and not used\n",
    "    correctScale = 250,\n",
    "\n",
    "    # Export parameters\n",
    "   # exportComposites = False,# Whether to export resulting composites exportCompositeCollection\n",
    "   # exportPathRoot = 'projects/disco-glass-413820/assets/users/lcms-training_module-2_composites', #'content/drive/MyDrive/lcms-training_module-2_composites',used this i think #'projects/resolute-future-412019/assets/users/lcms-training_module-2_composites', og directory #'projects/earthengine-public/assets/content/drive/MyDrive/lcms-training_module-2_composites',\n",
    "    exportComposites = False,\n",
    "    #outputName = 'Landsat-UTKA',\n",
    "    \n",
    "    crs = 'EPSG:4326',\n",
    "    #transform = getImagesLib.common_projections['NLCD_CONUS']['transform'],\n",
    "    transform = None)\n",
    " #  scale = None,\n",
    "  #  overwrite = True,# Whether to overwrite existing composites\n",
    "\n",
    "    #Separate into scenes and composites for subsequent analysis\n",
    "processedScenes = lsAndTs['processedScenes']\n",
    "processedComposites = lsAndTs['processedComposites']\n",
    "\n",
    "#clear map\n",
    "Map.clearMap()\n",
    "#Turn off layers from previous iteration\n",
    "Map.turnOffAllLayers()\n",
    "startYear = 2015\n",
    "endYear = 2020\n",
    "#Map.addLayer(processedComposites.select(['NDVI','NBR']),{'addToLegend':'false'},'Time Series (NBR and NDVI)',True)\n",
    "for year in range(startYear,endYear + 1 ):\n",
    "     t = processedComposites.filter(ee.Filter.calendarRange(year,year,'year')).mosaic()\n",
    "     Map.addLayer(t.float(),getImagesLib.vizParamsFalse,'UTKA{}'.format(year),'True')\n",
    "\n",
    "Map.turnOnInspector()\n",
    "Map.view()\n",
    "print('Done')"
   ]
  },
  {
   "cell_type": "code",
   "execution_count": 8,
   "metadata": {},
   "outputs": [],
   "source": [
    "clipped_collection = processedComposites.map(lambda image: image.clip(studyArea))"
   ]
  },
  {
   "cell_type": "code",
   "execution_count": 10,
   "metadata": {},
   "outputs": [
    {
     "name": "stdout",
     "output_type": "stream",
     "text": [
      "Adding layer: UTKA2015\n",
      "Adding layer: UTKA2016\n",
      "Adding layer: UTKA2017\n",
      "Adding layer: UTKA2018\n",
      "Adding layer: UTKA2019\n",
      "Adding layer: UTKA2020\n",
      "Starting webmap\n",
      "Using default refresh token for geeView\n",
      "Local web server at: http://localhost:1992/geeView/ already serving.\n",
      "cwd /Users/jessieeastburn/Library/CloudStorage/OneDrive-UniversityofUtah/URSA_Work/TS2/PJ_TimeSeries\n",
      "geeView URL: http://localhost:1992/geeView/?projectID=None&accessToken=ya29.a0AfB_byB4ZTaHAQ7X48F-9iUoPN3qAZ164q9iDkLB9SyaJaKS362sSV-mc7LW-xM98jdM6SizToX_XD9Y94s6OUDUnLH00ASW-gvlHGztuIu7Lv8e2Q4eQEQfjML1n79ovVV1Zy20kMF2n54ulH-yETHkRXR85LM9J-XXQgaCgYKARoSARISFQHGX2Mi_zp_qLxOLdMmBze9tSYL2g0173\n"
     ]
    },
    {
     "data": {
      "text/html": [
       "\n",
       "        <iframe\n",
       "            width=\"100%\"\n",
       "            height=\"525px\"\n",
       "            src=\"http://localhost:1992/geeView/?projectID=None&accessToken=ya29.a0AfB_byB4ZTaHAQ7X48F-9iUoPN3qAZ164q9iDkLB9SyaJaKS362sSV-mc7LW-xM98jdM6SizToX_XD9Y94s6OUDUnLH00ASW-gvlHGztuIu7Lv8e2Q4eQEQfjML1n79ovVV1Zy20kMF2n54ulH-yETHkRXR85LM9J-XXQgaCgYKARoSARISFQHGX2Mi_zp_qLxOLdMmBze9tSYL2g0173\"\n",
       "            frameborder=\"0\"\n",
       "            allowfullscreen\n",
       "            \n",
       "        ></iframe>\n",
       "        "
      ],
      "text/plain": [
       "<IPython.lib.display.IFrame at 0x10b3f51f0>"
      ]
     },
     "metadata": {},
     "output_type": "display_data"
    },
    {
     "name": "stdout",
     "output_type": "stream",
     "text": [
      "Done\n"
     ]
    },
    {
     "name": "stderr",
     "output_type": "stream",
     "text": [
      "::1 - - [21/Feb/2024 15:07:24] \"GET /geeView/?projectID=None&accessToken=ya29.a0AfB_byB4ZTaHAQ7X48F-9iUoPN3qAZ164q9iDkLB9SyaJaKS362sSV-mc7LW-xM98jdM6SizToX_XD9Y94s6OUDUnLH00ASW-gvlHGztuIu7Lv8e2Q4eQEQfjML1n79ovVV1Zy20kMF2n54ulH-yETHkRXR85LM9J-XXQgaCgYKARoSARISFQHGX2Mi_zp_qLxOLdMmBze9tSYL2g0173 HTTP/1.1\" 200 -\n",
      "::1 - - [21/Feb/2024 15:07:24] \"GET /geeView/src/gee/gee-run/runGeeViz.js HTTP/1.1\" 200 -\n"
     ]
    }
   ],
   "source": [
    "#clear map\n",
    "Map.clearMap()\n",
    "#Turn off layers from previous iteration\n",
    "Map.turnOffAllLayers()\n",
    "#Map.addLayer(processedComposites.select(['NDVI','NBR']),{'addToLegend':'false'},'Time Series (NBR and NDVI)',True)\n",
    "for year in range(startYear,endYear + 1 ):\n",
    "     t = clipped_collection.filter(ee.Filter.calendarRange(year,year,'year')).mosaic()\n",
    "     Map.addLayer(t.float(),getImagesLib.vizParamsFalse,'UTKA{}'.format(year),'True')\n",
    "Map.turnOnInspector()\n",
    "Map.view()\n",
    "print('Done')"
   ]
  }
 ],
 "metadata": {
  "kernelspec": {
   "display_name": "Python 3",
   "language": "python",
   "name": "python3"
  },
  "language_info": {
   "codemirror_mode": {
    "name": "ipython",
    "version": 3
   },
   "file_extension": ".py",
   "mimetype": "text/x-python",
   "name": "python",
   "nbconvert_exporter": "python",
   "pygments_lexer": "ipython3",
   "version": "3.9.6"
  }
 },
 "nbformat": 4,
 "nbformat_minor": 2
}
