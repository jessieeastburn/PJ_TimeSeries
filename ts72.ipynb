{
 "cells": [
  {
   "cell_type": "code",
   "execution_count": 1,
   "id": "60528c0d-4eb1-4ff3-a9b2-12746b8d4caa",
   "metadata": {},
   "outputs": [
    {
     "name": "stdout",
     "output_type": "stream",
     "text": [
      "Initializing GEE\n"
     ]
    },
    {
     "data": {
      "text/html": [
       "<p>To authorize access needed by Earth Engine, open the following\n",
       "        URL in a web browser and follow the instructions:</p>\n",
       "        <p><a href=https://code.earthengine.google.com/client-auth?scopes=https%3A//www.googleapis.com/auth/earthengine%20https%3A//www.googleapis.com/auth/cloud-platform%20https%3A//www.googleapis.com/auth/devstorage.full_control&request_id=rQrkWh82bQwQJhrPlE_fvsqK5jEyH2ZDmGNjEqNkWtE&tc=pCqXQu89vM-x2u-5Uqz0cV6syBEOlQMLSZE7R7UBarw&cc=k1XZCeUdmWgpy8q8QEXidr4GNbSvrgu3gI20QgMv09Q>https://code.earthengine.google.com/client-auth?scopes=https%3A//www.googleapis.com/auth/earthengine%20https%3A//www.googleapis.com/auth/cloud-platform%20https%3A//www.googleapis.com/auth/devstorage.full_control&request_id=rQrkWh82bQwQJhrPlE_fvsqK5jEyH2ZDmGNjEqNkWtE&tc=pCqXQu89vM-x2u-5Uqz0cV6syBEOlQMLSZE7R7UBarw&cc=k1XZCeUdmWgpy8q8QEXidr4GNbSvrgu3gI20QgMv09Q</a></p>\n",
       "        <p>The authorization workflow will generate a code, which you should paste in the box below.</p>\n",
       "        "
      ],
      "text/plain": [
       "<IPython.core.display.HTML object>"
      ]
     },
     "metadata": {},
     "output_type": "display_data"
    },
    {
     "name": "stdin",
     "output_type": "stream",
     "text": [
      "Enter verification code:  4/1AeaYSHBIY7szdJb1ltb9r7jH5ZvZ735WKwS3ojTneNz0JvqNTHnlyo7ijOI\n"
     ]
    },
    {
     "name": "stdout",
     "output_type": "stream",
     "text": [
      "\n",
      "Successfully saved authorization token.\n",
      "Successfully initialized\n",
      "geeViz package folder: /Users/jessieeastburn/anaconda3/envs/ursa/lib/python3.11/site-packages/geeViz\n",
      "done\n"
     ]
    }
   ],
   "source": [
    "#Example of how to get Landsat data using the getImagesLib and view outputs using the Python visualization tools\n",
    "#Acquires Landsat data and then adds them to the viewer\n",
    "####################################################################################################\n",
    "import os,sys\n",
    "sys.path.append(os.getcwd())\n",
    "\n",
    "#Module imports\n",
    "import geeViz.getImagesLib as getImagesLib\n",
    "ee = getImagesLib.ee\n",
    "Map = getImagesLib.Map\n",
    "\n",
    "print('done')"
   ]
  },
  {
   "cell_type": "code",
   "execution_count": 9,
   "id": "913891a6-8348-4cf5-a800-7c720b2f1436",
   "metadata": {},
   "outputs": [],
   "source": [
    "import geemap"
   ]
  },
  {
   "cell_type": "code",
   "execution_count": 10,
   "id": "5c2aa4bb-b6c6-4197-b2be-1a52481af8a9",
   "metadata": {},
   "outputs": [
    {
     "data": {
      "text/html": [
       "\n",
       "            <style>\n",
       "                .geemap-dark {\n",
       "                    --jp-widgets-color: white;\n",
       "                    --jp-widgets-label-color: white;\n",
       "                    --jp-ui-font-color1: white;\n",
       "                    --jp-layout-color2: #454545;\n",
       "                    background-color: #383838;\n",
       "                }\n",
       "                    \n",
       "                .geemap-dark .jupyter-button {\n",
       "                    --jp-layout-color3: #383838;\n",
       "                }\n",
       "                \n",
       "                .geemap-colab {\n",
       "                    background-color: var(--colab-primary-surface-color, white);\n",
       "                }\n",
       "                    \n",
       "                .geemap-colab .jupyter-button {\n",
       "                    --jp-layout-color3: var(--colab-primary-surface-color, white);\n",
       "                }\n",
       "            </style>\n",
       "            "
      ],
      "text/plain": [
       "<IPython.core.display.HTML object>"
      ]
     },
     "metadata": {},
     "output_type": "display_data"
    },
    {
     "data": {
      "application/vnd.jupyter.widget-view+json": {
       "model_id": "cf486fe43af34c3fa0550d9636a6c076",
       "version_major": 2,
       "version_minor": 0
      },
      "text/plain": [
       "Map(center=[37.068855811148026, -112.1756855549632], controls=(WidgetControl(options=['position', 'transparent…"
      ]
     },
     "execution_count": 10,
     "metadata": {},
     "output_type": "execute_result"
    }
   ],
   "source": [
    "\n",
    "# Get utka polygon.\n",
    "studyArea = (\n",
    "    ee.FeatureCollection('projects/disco-glass-413820/assets/plot_min_bound_geom')\n",
    "    .filter(\"site_id == 'UOFU_UTKA'\")\n",
    "    .first()\n",
    "    .geometry()\n",
    ")\n",
    "\n",
    "m = geemap.Map()\n",
    "m.center_object(studyArea, 9)\n",
    "m.add_layer(studyArea, None, 'utka')\n",
    "m"
   ]
  },
  {
   "cell_type": "code",
   "execution_count": 20,
   "id": "e11b65fb-bbc4-47a1-b55b-7213cde20b11",
   "metadata": {},
   "outputs": [
    {
     "data": {
      "text/html": [
       "\n",
       "            <style>\n",
       "                .geemap-dark {\n",
       "                    --jp-widgets-color: white;\n",
       "                    --jp-widgets-label-color: white;\n",
       "                    --jp-ui-font-color1: white;\n",
       "                    --jp-layout-color2: #454545;\n",
       "                    background-color: #383838;\n",
       "                }\n",
       "                    \n",
       "                .geemap-dark .jupyter-button {\n",
       "                    --jp-layout-color3: #383838;\n",
       "                }\n",
       "                \n",
       "                .geemap-colab {\n",
       "                    background-color: var(--colab-primary-surface-color, white);\n",
       "                }\n",
       "                    \n",
       "                .geemap-colab .jupyter-button {\n",
       "                    --jp-layout-color3: var(--colab-primary-surface-color, white);\n",
       "                }\n",
       "            </style>\n",
       "            "
      ],
      "text/plain": [
       "<IPython.core.display.HTML object>"
      ]
     },
     "metadata": {},
     "output_type": "display_data"
    },
    {
     "data": {
      "application/vnd.jupyter.widget-view+json": {
       "model_id": "d9256fae28d94675840056c31e38630c",
       "version_major": 2,
       "version_minor": 0
      },
      "text/plain": [
       "Map(center=[37.06887618217002, -112.17570000000188], controls=(WidgetControl(options=['position', 'transparent…"
      ]
     },
     "execution_count": 20,
     "metadata": {},
     "output_type": "execute_result"
    }
   ],
   "source": [
    "\n",
    "Map.clearMap()\n",
    "studyArea = (ee.Geometry.Polygon(\n",
    "            [[[-112.2647, 37.02876], \n",
    "              [-112.2647, 37.10894],\n",
    "              [-112.0867, 37.10894],\n",
    "              [-112.0867, 37.02876], \n",
    "              [-112.2647, 37.02876]]]))\n",
    "m = geemap.Map()\n",
    "m.center_object(studyArea, 9)\n",
    "m.add_layer(studyArea, None, 'utka')\n",
    "m"
   ]
  },
  {
   "cell_type": "code",
   "execution_count": 16,
   "id": "19772574-3a03-4187-8a12-ff5736b2c5c1",
   "metadata": {},
   "outputs": [
    {
     "data": {
      "text/html": [
       "\n",
       "            <style>\n",
       "                .geemap-dark {\n",
       "                    --jp-widgets-color: white;\n",
       "                    --jp-widgets-label-color: white;\n",
       "                    --jp-ui-font-color1: white;\n",
       "                    --jp-layout-color2: #454545;\n",
       "                    background-color: #383838;\n",
       "                }\n",
       "                    \n",
       "                .geemap-dark .jupyter-button {\n",
       "                    --jp-layout-color3: #383838;\n",
       "                }\n",
       "                \n",
       "                .geemap-colab {\n",
       "                    background-color: var(--colab-primary-surface-color, white);\n",
       "                }\n",
       "                    \n",
       "                .geemap-colab .jupyter-button {\n",
       "                    --jp-layout-color3: var(--colab-primary-surface-color, white);\n",
       "                }\n",
       "            </style>\n",
       "            "
      ],
      "text/plain": [
       "<IPython.core.display.HTML object>"
      ]
     },
     "metadata": {},
     "output_type": "display_data"
    },
    {
     "data": {
      "text/html": [
       "<div><style>:root {\n",
       "  --font-color-primary: var(--jp-content-font-color0, rgba(0, 0, 0, 1));\n",
       "  --font-color-secondary: var(--jp-content-font-color2, rgba(0, 0, 0, 0.6));\n",
       "  --font-color-accent: rgba(123, 31, 162, 1);\n",
       "  --border-color: var(--jp-border-color2, #e0e0e0);\n",
       "  --background-color: var(--jp-layout-color0, white);\n",
       "  --background-color-row-even: var(--jp-layout-color1, white);\n",
       "  --background-color-row-odd: var(--jp-layout-color2, #eeeeee);\n",
       "}\n",
       "\n",
       "html[theme=\"dark\"],\n",
       "body[data-theme=\"dark\"],\n",
       "body.vscode-dark {\n",
       "  --font-color-primary: rgba(255, 255, 255, 1);\n",
       "  --font-color-secondary: rgba(255, 255, 255, 0.6);\n",
       "  --font-color-accent: rgb(173, 132, 190);\n",
       "  --border-color: #2e2e2e;\n",
       "  --background-color: #111111;\n",
       "  --background-color-row-even: #111111;\n",
       "  --background-color-row-odd: #313131;\n",
       "}\n",
       "\n",
       ".ee {\n",
       "  padding: 1em;\n",
       "  line-height: 1.5em;\n",
       "  min-width: 300px;\n",
       "  max-width: 1200px;\n",
       "  overflow-y: scroll;\n",
       "  max-height: 600px;\n",
       "  border: 1px solid var(--border-color);\n",
       "  font-family: monospace;\n",
       "}\n",
       "\n",
       ".ee li {\n",
       "  list-style-type: none;\n",
       "}\n",
       "\n",
       ".ee ul {\n",
       "  padding-left: 1.5em !important;\n",
       "  margin: 0;\n",
       "}\n",
       "\n",
       ".ee > ul {\n",
       "  padding-left: 0 !important;\n",
       "}\n",
       "\n",
       ".ee-open,\n",
       ".ee-shut {\n",
       "  color: var(--font-color-secondary);\n",
       "  cursor: pointer;\n",
       "  margin: 0;\n",
       "}\n",
       "\n",
       ".ee-open:hover,\n",
       ".ee-shut:hover {\n",
       "  color: var(--font-color-primary);\n",
       "}\n",
       "\n",
       ".ee-k {\n",
       "  color: var(--font-color-accent);\n",
       "  margin-right: 6px;\n",
       "}\n",
       "\n",
       ".ee-v {\n",
       "  color: var(--font-color-primary);\n",
       "}\n",
       "\n",
       ".ee-toggle {\n",
       "  display: none;\n",
       "}\n",
       "\n",
       ".ee-shut + ul {\n",
       "  display: none;\n",
       "}\n",
       "\n",
       ".ee-open + ul {\n",
       "  display: block;\n",
       "}\n",
       "\n",
       ".ee-shut::before {\n",
       "  display: inline-block;\n",
       "  content: \"▼\";\n",
       "  margin-right: 6px;\n",
       "  transform: rotate(-90deg);\n",
       "  transition: transform 0.2s;\n",
       "}\n",
       "\n",
       ".ee-open::before {\n",
       "  transform: rotate(0deg);\n",
       "  display: inline-block;\n",
       "  content: \"▼\";\n",
       "  margin-right: 6px;\n",
       "  transition: transform 0.2s;\n",
       "}\n",
       "</style><div class='ee'><ul><li><label class='ee-shut'>Polygon (5 vertices)<input type='checkbox' class='ee-toggle'></label><ul><li><span class='ee-k'>type:</span><span class='ee-v'>Polygon</span></li><li><label class='ee-shut'>coordinates: List (1 element)<input type='checkbox' class='ee-toggle'></label><ul><li><label class='ee-shut'>0: List (5 elements)<input type='checkbox' class='ee-toggle'></label><ul><li><label class='ee-shut'>0: [-112.2647, 37.02876]<input type='checkbox' class='ee-toggle'></label><ul><li><span class='ee-k'>0:</span><span class='ee-v'>-112.2647</span></li><li><span class='ee-k'>1:</span><span class='ee-v'>37.02876</span></li></ul></li><li><label class='ee-shut'>1: [-112.2647, 37.10894]<input type='checkbox' class='ee-toggle'></label><ul><li><span class='ee-k'>0:</span><span class='ee-v'>-112.2647</span></li><li><span class='ee-k'>1:</span><span class='ee-v'>37.10894</span></li></ul></li><li><label class='ee-shut'>2: [-112.0867, 37.10894]<input type='checkbox' class='ee-toggle'></label><ul><li><span class='ee-k'>0:</span><span class='ee-v'>-112.0867</span></li><li><span class='ee-k'>1:</span><span class='ee-v'>37.10894</span></li></ul></li><li><label class='ee-shut'>3: [-112.0867, 37.02876]<input type='checkbox' class='ee-toggle'></label><ul><li><span class='ee-k'>0:</span><span class='ee-v'>-112.0867</span></li><li><span class='ee-k'>1:</span><span class='ee-v'>37.02876</span></li></ul></li><li><label class='ee-shut'>4: [-112.2647, 37.02876]<input type='checkbox' class='ee-toggle'></label><ul><li><span class='ee-k'>0:</span><span class='ee-v'>-112.2647</span></li><li><span class='ee-k'>1:</span><span class='ee-v'>37.02876</span></li></ul></li></ul></li></ul></li><li><span class='ee-k'>geodesic:</span><span class='ee-v'>False</span></li></ul></li></ul></div><script>function toggleHeader() {\n",
       "    const parent = this.parentElement;\n",
       "    parent.className = parent.className === \"ee-open\" ? \"ee-shut\" : \"ee-open\";\n",
       "}\n",
       "\n",
       "for (let c of document.getElementsByClassName(\"ee-toggle\")) {\n",
       "    c.onclick = toggleHeader;\n",
       "}</script></div>"
      ],
      "text/plain": [
       "ee.Geometry({\n",
       "  \"functionInvocationValue\": {\n",
       "    \"functionName\": \"GeometryConstructors.Polygon\",\n",
       "    \"arguments\": {\n",
       "      \"coordinates\": {\n",
       "        \"constantValue\": [\n",
       "          [\n",
       "            [\n",
       "              -112.2647,\n",
       "              37.02876\n",
       "            ],\n",
       "            [\n",
       "              -112.2647,\n",
       "              37.10894\n",
       "            ],\n",
       "            [\n",
       "              -112.0867,\n",
       "              37.10894\n",
       "            ],\n",
       "            [\n",
       "              -112.0867,\n",
       "              37.02876\n",
       "            ],\n",
       "            [\n",
       "              -112.2647,\n",
       "              37.02876\n",
       "            ]\n",
       "          ]\n",
       "        ]\n",
       "      },\n",
       "      \"geodesic\": {\n",
       "        \"constantValue\": false\n",
       "      }\n",
       "    }\n",
       "  }\n",
       "})"
      ]
     },
     "execution_count": 16,
     "metadata": {},
     "output_type": "execute_result"
    }
   ],
   "source": [
    "studyArea"
   ]
  },
  {
   "cell_type": "code",
   "execution_count": 21,
   "id": "d31f4879-0ecf-4fce-9e04-4c8cd948b044",
   "metadata": {},
   "outputs": [
    {
     "data": {
      "text/html": [
       "\n",
       "            <style>\n",
       "                .geemap-dark {\n",
       "                    --jp-widgets-color: white;\n",
       "                    --jp-widgets-label-color: white;\n",
       "                    --jp-ui-font-color1: white;\n",
       "                    --jp-layout-color2: #454545;\n",
       "                    background-color: #383838;\n",
       "                }\n",
       "                    \n",
       "                .geemap-dark .jupyter-button {\n",
       "                    --jp-layout-color3: #383838;\n",
       "                }\n",
       "                \n",
       "                .geemap-colab {\n",
       "                    background-color: var(--colab-primary-surface-color, white);\n",
       "                }\n",
       "                    \n",
       "                .geemap-colab .jupyter-button {\n",
       "                    --jp-layout-color3: var(--colab-primary-surface-color, white);\n",
       "                }\n",
       "            </style>\n",
       "            "
      ],
      "text/plain": [
       "<IPython.core.display.HTML object>"
      ]
     },
     "metadata": {},
     "output_type": "display_data"
    },
    {
     "name": "stdout",
     "output_type": "stream",
     "text": [
      "Get Processed Landsat: \n",
      "Start date: Jan 01 2015 , End date: Dec 30 2020\n",
      "Applying scale factors for C2 L4 data\n",
      "Applying scale factors for C2 L5 data\n",
      "Applying scale factors for C2 L8 data\n",
      "Only including SLC On Landsat 7\n",
      "Applying scale factors for C2 L7 data\n",
      "Applying scale factors for C2 L9 data\n",
      "Applying Fmask Cloud Mask\n",
      "Applying Fmask Shadow Mask\n",
      "Adding layer: Time Series (NBR and NDVI)\n",
      "Adding layer: Default Params 2015 1-365\n",
      "Adding layer: Default Params 2016 1-365\n",
      "Adding layer: Default Params 2017 1-365\n",
      "Adding layer: Default Params 2018 1-365\n",
      "Adding layer: Default Params 2019 1-365\n",
      "Adding layer: Default Params 2020 1-365\n",
      "Starting webmap\n",
      "Using default refresh token for geeView\n",
      "Local web server at: http://localhost:5732/geeView/ already serving.\n",
      "cwd /Users/jessieeastburn/Library/CloudStorage/OneDrive-UniversityofUtah/URSA_Work/TS2\n",
      "geeView URL: http://localhost:5732/geeView/?projectID=None&accessToken=ya29.a0AfB_byCY4PwzMcLELzCznu0iqn02Y8EOyyfKMwF3WvPhGgQ4h3TlE-d76vZSrQ-HreT_kShvWdIRSEVKPA07k36_klQVncK8hV4BojTC2VDkc7rOgunuYLi8-Pevj-2jj3-ToPfscsUQD5uJjf5-UhndFwhV7hSJyWmeaCgYKAaMSARISFQHGX2Mi1go7AYjiAjCv7iycHKQylg0171\n"
     ]
    },
    {
     "data": {
      "text/html": [
       "\n",
       "        <iframe\n",
       "            width=\"100%\"\n",
       "            height=\"525px\"\n",
       "            src=\"http://localhost:5732/geeView/?projectID=None&accessToken=ya29.a0AfB_byCY4PwzMcLELzCznu0iqn02Y8EOyyfKMwF3WvPhGgQ4h3TlE-d76vZSrQ-HreT_kShvWdIRSEVKPA07k36_klQVncK8hV4BojTC2VDkc7rOgunuYLi8-Pevj-2jj3-ToPfscsUQD5uJjf5-UhndFwhV7hSJyWmeaCgYKAaMSARISFQHGX2Mi1go7AYjiAjCv7iycHKQylg0171\"\n",
       "            frameborder=\"0\"\n",
       "            allowfullscreen\n",
       "            \n",
       "        ></iframe>\n",
       "        "
      ],
      "text/plain": [
       "<IPython.lib.display.IFrame at 0x1263d5990>"
      ]
     },
     "metadata": {},
     "output_type": "display_data"
    },
    {
     "name": "stderr",
     "output_type": "stream",
     "text": [
      "::1 - - [16/Feb/2024 14:05:08] \"GET /geeView/?projectID=None&accessToken=ya29.a0AfB_byCY4PwzMcLELzCznu0iqn02Y8EOyyfKMwF3WvPhGgQ4h3TlE-d76vZSrQ-HreT_kShvWdIRSEVKPA07k36_klQVncK8hV4BojTC2VDkc7rOgunuYLi8-Pevj-2jj3-ToPfscsUQD5uJjf5-UhndFwhV7hSJyWmeaCgYKAaMSARISFQHGX2Mi1go7AYjiAjCv7iycHKQylg0171 HTTP/1.1\" 200 -\n",
      "::1 - - [16/Feb/2024 14:05:08] \"GET /geeView/src/gee/gee-run/runGeeViz.js HTTP/1.1\" 200 -\n"
     ]
    }
   ],
   "source": [
    "# Specify study area: Study area\n",
    "# Can be a featureCollection, feature, or geometry\n",
    "#studyArea = ee.FeatureCollection('projects/lcms-292214/assets/R8/PR_USVI/Ancillary/prusvi_boundary_buff2mile').geometry().bounds()#testAreas['CA']\n",
    "\n",
    "# Update the startJulian and endJulian variables to indicate your seasonal \n",
    "# constraints. This supports wrapping for tropics and southern hemisphere.\n",
    "# If using wrapping and the majority of the days occur in the second year, the system:time_start will default \n",
    "# to June 1 of that year.Otherwise, all system:time_starts will default to June 1 of the given year\n",
    "# startJulian: Starting Julian date \n",
    "# endJulian: Ending Julian date\n",
    "startJulian = 1\n",
    "endJulian = 365\n",
    "\n",
    "# Specify start and end years for all analyses\n",
    "# More than a 3 year span should be provided for time series methods to work \n",
    "# well. If providing pre-computed stats for cloudScore and TDOM, this does not \n",
    "# matter\n",
    "startYear = 2015\n",
    "endYear = 2020\n",
    "\n",
    "#Call on master wrapper function to get Landat scenes and composites\n",
    "lsAndTs = getImagesLib.getLandsatWrapper(studyArea,startYear,endYear,startJulian,endJulian)\n",
    "\n",
    "\n",
    "#Separate into scenes and composites for subsequent analysis\n",
    "processedScenes = lsAndTs['processedScenes']\n",
    "processedComposites = lsAndTs['processedComposites']\n",
    "\n",
    "# Indicate what type of image is being added to speed up map service creation\n",
    "getImagesLib.vizParamsFalse['layerType']= 'geeImage';\n",
    "\n",
    "Map.clearMap()\n",
    "Map.port = 5732\n",
    "Map.addLayer(processedComposites.select(['NDVI','NBR']),{'addToLegend':'false'},'Time Series (NBR and NDVI)',True)\n",
    "for year in range(startYear,endYear + 1 ):\n",
    "     t = processedComposites.filter(ee.Filter.calendarRange(year,year,'year')).mosaic()\n",
    "     Map.addLayer(t.float(),getImagesLib.vizParamsFalse,'Default Params {} {}-{}'.format(year,startJulian,endJulian),'True')\n",
    "#Map.centerObject(studyArea, 9)\n",
    "\n",
    "#Map.centerObject(ee.Geometry.Polygon(\n",
    " #       [[[-65.8337045819611, 18.329538797654042],\n",
    " #         [-65.8337045819611, 18.235653085671174],\n",
    " #         [-65.70461522649235, 18.235653085671174],\n",
    " #         [-65.70461522649235, 18.329538797654042]]], None, False))\n",
    "\n",
    "Map.centerObject(ee.Geometry.Polygon(\n",
    "        [[[-112.2647, 37.02876], \n",
    "          [-112.2647, 37.10894],\n",
    "          [-112.0867, 37.10894],\n",
    "          [-112.0867, 37.02876], \n",
    "          [-112.2647, 37.02876]]], None, False))\n",
    "Map.turnOnInspector()\n",
    "Map.view()\n"
   ]
  },
  {
   "cell_type": "code",
   "execution_count": 3,
   "id": "792fbaee-187d-42f8-a706-c0f0f0176224",
   "metadata": {},
   "outputs": [
    {
     "data": {
      "text/plain": [
       "ee.Geometry({\n",
       "  \"functionInvocationValue\": {\n",
       "    \"functionName\": \"Geometry.bounds\",\n",
       "    \"arguments\": {\n",
       "      \"geometry\": {\n",
       "        \"functionInvocationValue\": {\n",
       "          \"functionName\": \"Collection.geometry\",\n",
       "          \"arguments\": {\n",
       "            \"collection\": {\n",
       "              \"functionInvocationValue\": {\n",
       "                \"functionName\": \"Collection.loadTable\",\n",
       "                \"arguments\": {\n",
       "                  \"tableId\": {\n",
       "                    \"constantValue\": \"projects/lcms-292214/assets/R8/PR_USVI/Ancillary/prusvi_boundary_buff2mile\"\n",
       "                  }\n",
       "                }\n",
       "              }\n",
       "            }\n",
       "          }\n",
       "        }\n",
       "      }\n",
       "    }\n",
       "  }\n",
       "})"
      ]
     },
     "execution_count": 3,
     "metadata": {},
     "output_type": "execute_result"
    }
   ],
   "source": [
    "studyArea"
   ]
  },
  {
   "cell_type": "code",
   "execution_count": 13,
   "id": "02c7a1f3-dc76-4edf-86ad-b0f06f5e93a4",
   "metadata": {},
   "outputs": [
    {
     "data": {
      "text/html": [
       "\n",
       "            <style>\n",
       "                .geemap-dark {\n",
       "                    --jp-widgets-color: white;\n",
       "                    --jp-widgets-label-color: white;\n",
       "                    --jp-ui-font-color1: white;\n",
       "                    --jp-layout-color2: #454545;\n",
       "                    background-color: #383838;\n",
       "                }\n",
       "                    \n",
       "                .geemap-dark .jupyter-button {\n",
       "                    --jp-layout-color3: #383838;\n",
       "                }\n",
       "                \n",
       "                .geemap-colab {\n",
       "                    background-color: var(--colab-primary-surface-color, white);\n",
       "                }\n",
       "                    \n",
       "                .geemap-colab .jupyter-button {\n",
       "                    --jp-layout-color3: var(--colab-primary-surface-color, white);\n",
       "                }\n",
       "            </style>\n",
       "            "
      ],
      "text/plain": [
       "<IPython.core.display.HTML object>"
      ]
     },
     "metadata": {},
     "output_type": "display_data"
    },
    {
     "name": "stdout",
     "output_type": "stream",
     "text": [
      "{'compositingMethod': 'medoid', 'compositingReducer': 'None', 'endJulian': 365, 'endYear': 2020, 'startJulian': 1, 'startYear': 2015, 'timebuffer': 0, 'weights': '[1]'}\n",
      "{'addPixelQA': 'False', 'applyCloudScore': 'False', 'applyFmaskCloudMask': 'True', 'applyFmaskCloudShadowMask': 'True', 'applyFmaskSnowMask': 'False', 'applyTDOM': 'False', 'cloudScorePctl': 10, 'cloudScoreThresh': 10, 'defringeL5': 'False', 'endJulian': 365, 'endYear': 2020, 'harmonizeOLI': 'False', 'includeSLCOffL7': 'False', 'landsatCollectionVersion': 'C2', 'origin': 'Landsat', 'performCloudScoreOffset': 'True', 'preComputedCloudScoreOffset': 'None', 'preComputedTDOMIRMean': 'None', 'preComputedTDOMIRStdDev': 'None', 'resampleMethod': 'near', 'shadowSumBands': \"['nir', 'swir1']\", 'startJulian': 1, 'startYear': 2015, 'toaOrSR': 'SR', 'verbose': 'False', 'wrapOffset': 0, 'zScoreThresh': -1}\n"
     ]
    }
   ],
   "source": [
    "#It is clear the default parameters do not work very well in this area\n",
    "#There are missing data and cloud artifacts\n",
    "#You can access the parameters that were used through the properties of the returned collection\n",
    "print(processedComposites.toDictionary().getInfo())\n",
    "print(processedScenes.toDictionary().getInfo())\n"
   ]
  },
  {
   "cell_type": "code",
   "execution_count": 23,
   "id": "0abae13d-4ad4-4d8b-9c59-8a27b818be9d",
   "metadata": {},
   "outputs": [
    {
     "data": {
      "text/html": [
       "\n",
       "            <style>\n",
       "                .geemap-dark {\n",
       "                    --jp-widgets-color: white;\n",
       "                    --jp-widgets-label-color: white;\n",
       "                    --jp-ui-font-color1: white;\n",
       "                    --jp-layout-color2: #454545;\n",
       "                    background-color: #383838;\n",
       "                }\n",
       "                    \n",
       "                .geemap-dark .jupyter-button {\n",
       "                    --jp-layout-color3: #383838;\n",
       "                }\n",
       "                \n",
       "                .geemap-colab {\n",
       "                    background-color: var(--colab-primary-surface-color, white);\n",
       "                }\n",
       "                    \n",
       "                .geemap-colab .jupyter-button {\n",
       "                    --jp-layout-color3: var(--colab-primary-surface-color, white);\n",
       "                }\n",
       "            </style>\n",
       "            "
      ],
      "text/plain": [
       "<IPython.core.display.HTML object>"
      ]
     },
     "metadata": {},
     "output_type": "display_data"
    },
    {
     "name": "stdout",
     "output_type": "stream",
     "text": [
      "Get Processed Landsat: \n",
      "Start date: Jan 01 2015 , End date: Dec 30 2020\n",
      "Applying scale factors for C2 L4 data\n",
      "Applying scale factors for C2 L5 data\n",
      "Applying scale factors for C2 L8 data\n",
      "Including All Landsat 7\n",
      "Applying scale factors for C2 L7 data\n",
      "Applying scale factors for C2 L9 data\n",
      "Applying Fmask Cloud Mask\n",
      "Applying Fmask Shadow Mask\n",
      "Adding layer: L7 added 2015 1-365\n",
      "Adding layer: L7 added 2016 1-365\n",
      "Adding layer: L7 added 2017 1-365\n",
      "Adding layer: L7 added 2018 1-365\n",
      "Adding layer: L7 added 2019 1-365\n",
      "Adding layer: L7 added 2020 1-365\n",
      "Starting webmap\n",
      "Using default refresh token for geeView\n",
      "Local web server at: http://localhost:5732/geeView/ already serving.\n",
      "cwd /Users/jessieeastburn/Library/CloudStorage/OneDrive-UniversityofUtah/URSA_Work/TS2\n",
      "geeView URL: http://localhost:5732/geeView/?projectID=None&accessToken=ya29.a0AfB_byAMh0uq7efnLTAhLwe0D5IcG9mJzeC7kbm8BADXSnlapwc35m7XPnG7RWFy1x5kcplZ8UBCQfiAqz2CwBdmyg5mjs78DmSJKRZfRl6qJgjbeDczaDpQ9gi0GQp-3vN6pa2vPMwShTF9a7TtaKczLp87QZnWiIB9aCgYKAb8SARISFQHGX2MiBHtb3FdPKLkHTWyq-OqMBg0171\n"
     ]
    },
    {
     "data": {
      "text/html": [
       "\n",
       "        <iframe\n",
       "            width=\"100%\"\n",
       "            height=\"525px\"\n",
       "            src=\"http://localhost:5732/geeView/?projectID=None&accessToken=ya29.a0AfB_byAMh0uq7efnLTAhLwe0D5IcG9mJzeC7kbm8BADXSnlapwc35m7XPnG7RWFy1x5kcplZ8UBCQfiAqz2CwBdmyg5mjs78DmSJKRZfRl6qJgjbeDczaDpQ9gi0GQp-3vN6pa2vPMwShTF9a7TtaKczLp87QZnWiIB9aCgYKAb8SARISFQHGX2MiBHtb3FdPKLkHTWyq-OqMBg0171\"\n",
       "            frameborder=\"0\"\n",
       "            allowfullscreen\n",
       "            \n",
       "        ></iframe>\n",
       "        "
      ],
      "text/plain": [
       "<IPython.lib.display.IFrame at 0x126486ad0>"
      ]
     },
     "metadata": {},
     "output_type": "display_data"
    },
    {
     "name": "stderr",
     "output_type": "stream",
     "text": [
      "::1 - - [16/Feb/2024 14:06:43] \"GET /geeView/?projectID=None&accessToken=ya29.a0AfB_byAMh0uq7efnLTAhLwe0D5IcG9mJzeC7kbm8BADXSnlapwc35m7XPnG7RWFy1x5kcplZ8UBCQfiAqz2CwBdmyg5mjs78DmSJKRZfRl6qJgjbeDczaDpQ9gi0GQp-3vN6pa2vPMwShTF9a7TtaKczLp87QZnWiIB9aCgYKAb8SARISFQHGX2MiBHtb3FdPKLkHTWyq-OqMBg0171 HTTP/1.1\" 200 -\n",
      "::1 - - [16/Feb/2024 14:06:43] \"GET /geeView/src/gee/gee-run/runGeeViz.js HTTP/1.1\" 200 -\n"
     ]
    }
   ],
   "source": [
    "#Since there are not that many images available in this area for these years, let's try adding Landsat 7\n",
    "includeSLCOffL7 = True\n",
    "#Call on master wrapper function to get Landat scenes and composites\n",
    "lsAndTs = getImagesLib.getLandsatWrapper(studyArea,startYear,endYear,startJulian,endJulian,includeSLCOffL7=includeSLCOffL7)\n",
    "\n",
    "\n",
    "#Separate into scenes and composites for subsequent analysis\n",
    "processedScenes = lsAndTs['processedScenes']\n",
    "processedComposites = lsAndTs['processedComposites']\n",
    "\n",
    "Map.clearMap()\n",
    "#Turn off layers from previous iteration\n",
    "Map.turnOffAllLayers()\n",
    "\n",
    "# Map.addLayer(processedComposites.select(['NDVI','NBR']),{'addToLegend':'false'},'Time Series (NBR and NDVI)',False)\n",
    "for year in range(startYear,endYear + 1 ):\n",
    "     t = processedComposites.filter(ee.Filter.calendarRange(year,year,'year')).mosaic()\n",
    "     Map.addLayer(t.float(),getImagesLib.vizParamsFalse,'L7 added {} {}-{}'.format(year,startJulian,endJulian),'True')\n",
    "\n",
    "\n",
    "Map.view()\n",
    "\n",
    "#You'll notice this helps fill in the holes, but introduces many cloud-related artifacts"
   ]
  },
  {
   "cell_type": "code",
   "execution_count": 24,
   "id": "8abf3af0-37b0-4b68-b121-e797b9259057",
   "metadata": {},
   "outputs": [
    {
     "data": {
      "text/html": [
       "\n",
       "            <style>\n",
       "                .geemap-dark {\n",
       "                    --jp-widgets-color: white;\n",
       "                    --jp-widgets-label-color: white;\n",
       "                    --jp-ui-font-color1: white;\n",
       "                    --jp-layout-color2: #454545;\n",
       "                    background-color: #383838;\n",
       "                }\n",
       "                    \n",
       "                .geemap-dark .jupyter-button {\n",
       "                    --jp-layout-color3: #383838;\n",
       "                }\n",
       "                \n",
       "                .geemap-colab {\n",
       "                    background-color: var(--colab-primary-surface-color, white);\n",
       "                }\n",
       "                    \n",
       "                .geemap-colab .jupyter-button {\n",
       "                    --jp-layout-color3: var(--colab-primary-surface-color, white);\n",
       "                }\n",
       "            </style>\n",
       "            "
      ],
      "text/plain": [
       "<IPython.core.display.HTML object>"
      ]
     },
     "metadata": {},
     "output_type": "display_data"
    },
    {
     "name": "stdout",
     "output_type": "stream",
     "text": [
      "Get Processed Landsat: \n",
      "Start date: Jan 01 2015 , End date: Dec 30 2020\n",
      "Applying scale factors for C2 L4 data\n",
      "Applying scale factors for C2 L5 data\n",
      "Applying scale factors for C2 L8 data\n",
      "Including All Landsat 7\n",
      "Applying scale factors for C2 L7 data\n",
      "Applying scale factors for C2 L9 data\n",
      "Applying Cloud Score\n",
      "Computing cloudScore offset\n",
      "Applying Fmask Cloud Mask\n",
      "Applying Fmask Shadow Mask\n",
      "Adding layer: Time Series (NBR and NDVI)\n",
      "Adding layer: L7 and CloudScore added 2015 1-365\n",
      "Adding layer: L7 and CloudScore added 2016 1-365\n",
      "Adding layer: L7 and CloudScore added 2017 1-365\n",
      "Adding layer: L7 and CloudScore added 2018 1-365\n",
      "Adding layer: L7 and CloudScore added 2019 1-365\n",
      "Adding layer: L7 and CloudScore added 2020 1-365\n",
      "Starting webmap\n",
      "Using default refresh token for geeView\n",
      "Local web server at: http://localhost:5732/geeView/ already serving.\n",
      "cwd /Users/jessieeastburn/Library/CloudStorage/OneDrive-UniversityofUtah/URSA_Work/TS2\n",
      "geeView URL: http://localhost:5732/geeView/?projectID=None&accessToken=ya29.a0AfB_byDBlpDJNk-gY9XOPy40wzeYSAkASuhV7SFIivMVOWg0G1EveDAYuHOInfz5loRsQB8b1YaK10IzFX3XvJ47uaDZZL-5v5rttheaRW9_2GZt_owMnNHhbpEGWnnwjSp7AxP69ahiFJ3IiTERErGSAi0PaALtQdPNaCgYKAXsSARISFQHGX2MiEZikphsRbhSEEeIOTJ23sQ0171\n"
     ]
    },
    {
     "data": {
      "text/html": [
       "\n",
       "        <iframe\n",
       "            width=\"100%\"\n",
       "            height=\"525px\"\n",
       "            src=\"http://localhost:5732/geeView/?projectID=None&accessToken=ya29.a0AfB_byDBlpDJNk-gY9XOPy40wzeYSAkASuhV7SFIivMVOWg0G1EveDAYuHOInfz5loRsQB8b1YaK10IzFX3XvJ47uaDZZL-5v5rttheaRW9_2GZt_owMnNHhbpEGWnnwjSp7AxP69ahiFJ3IiTERErGSAi0PaALtQdPNaCgYKAXsSARISFQHGX2MiEZikphsRbhSEEeIOTJ23sQ0171\"\n",
       "            frameborder=\"0\"\n",
       "            allowfullscreen\n",
       "            \n",
       "        ></iframe>\n",
       "        "
      ],
      "text/plain": [
       "<IPython.lib.display.IFrame at 0x1279d4990>"
      ]
     },
     "metadata": {},
     "output_type": "display_data"
    },
    {
     "name": "stderr",
     "output_type": "stream",
     "text": [
      "::1 - - [16/Feb/2024 14:07:39] \"GET /geeView/?projectID=None&accessToken=ya29.a0AfB_byDBlpDJNk-gY9XOPy40wzeYSAkASuhV7SFIivMVOWg0G1EveDAYuHOInfz5loRsQB8b1YaK10IzFX3XvJ47uaDZZL-5v5rttheaRW9_2GZt_owMnNHhbpEGWnnwjSp7AxP69ahiFJ3IiTERErGSAi0PaALtQdPNaCgYKAXsSARISFQHGX2MiEZikphsRbhSEEeIOTJ23sQ0171 HTTP/1.1\" 200 -\n",
      "::1 - - [16/Feb/2024 14:07:39] \"GET /geeView/src/gee/gee-run/runGeeViz.js HTTP/1.1\" 200 -\n"
     ]
    }
   ],
   "source": [
    "#Let's try to improve the cloud masking. Fmask is used by default, but misses some clouds\n",
    "#We'll try the adding in the cloudScore method\n",
    "applyCloudScore = True\n",
    "\n",
    "#Call on master wrapper function to get Landat scenes and composites\n",
    "lsAndTs = getImagesLib.getLandsatWrapper(studyArea,startYear,endYear,startJulian,endJulian,includeSLCOffL7=includeSLCOffL7,applyCloudScore=applyCloudScore)\n",
    "\n",
    "\n",
    "#Separate into scenes and composites for subsequent analysis\n",
    "processedScenes = lsAndTs['processedScenes']\n",
    "processedComposites = lsAndTs['processedComposites']\n",
    "\n",
    "#Turn off layers from previous iteration\n",
    "Map.turnOffAllLayers()\n",
    "\n",
    "Map.addLayer(processedComposites.select(['NDVI','NBR']),{'addToLegend':'true'},'Time Series (NBR and NDVI)',True)\n",
    "for year in range(startYear,endYear + 1 ):\n",
    "     t = processedComposites.filter(ee.Filter.calendarRange(year,year,'year')).mosaic()\n",
    "     Map.addLayer(t.float(),getImagesLib.vizParamsFalse,'L7 and CloudScore added {} {}-{}'.format(year,startJulian,endJulian),'True')\n",
    "\n",
    "\n",
    "Map.view()\n",
    "\n",
    "#You'll notice this cleans up the cloud masking a lot"
   ]
  },
  {
   "cell_type": "code",
   "execution_count": null,
   "id": "cdfa4e82-a585-4967-b975-7ba4829a7d43",
   "metadata": {},
   "outputs": [],
   "source": [
    "#You'll still notice there are some dark areas likely due to cloud shadow masking omission\n",
    "#Fmasks's cloud shadow mask misses a lot typically. A temporal outlier method called the \n",
    "#Temporal Dark Outlier Mask (TDOM) works well with masking cloud shadows\n",
    "\n",
    "#We'll try the cloudScore method\n",
    "applyTDOM = True\n",
    "\n",
    "#Call on master wrapper function to get Landat scenes and composites\n",
    "#In order to identify dark outliers, we will extend the dates by 6 years to get a larger sample\n",
    "lsAndTs = getImagesLib.getLandsatWrapper(studyArea,startYear-3,endYear+3,startJulian,endJulian,includeSLCOffL7=includeSLCOffL7,applyCloudScore=applyCloudScore,applyTDOM=applyTDOM)\n",
    "\n",
    "\n",
    "#Separate into scenes and composites for subsequent analysis\n",
    "processedScenes = lsAndTs['processedScenes']\n",
    "processedComposites = lsAndTs['processedComposites']\n",
    "\n",
    "#Turn off layers from previous iteration\n",
    "Map.turnOffAllLayers()\n",
    "\n",
    "Map.addLayer(processedComposites.select(['NDVI','NBR']),{'addToLegend':'false'},'Time Series (NBR and NDVI)',True)\n",
    "for year in range(startYear,endYear + 1 ):\n",
    "     t = processedComposites.filter(ee.Filter.calendarRange(year,year,'year')).mosaic()\n",
    "     Map.addLayer(t.float(),getImagesLib.vizParamsFalse,'CloudScore and TDOM added {} {}-{}'.format(year,startJulian,endJulian),'True')\n",
    "\n",
    "\n",
    "Map.view()\n",
    "\n",
    "#You'll notice this cleans up the cloud masking a lot"
   ]
  },
  {
   "cell_type": "code",
   "execution_count": 25,
   "id": "cbc7c1e5-4452-4941-81c9-102123c1ed90",
   "metadata": {},
   "outputs": [
    {
     "data": {
      "text/html": [
       "\n",
       "            <style>\n",
       "                .geemap-dark {\n",
       "                    --jp-widgets-color: white;\n",
       "                    --jp-widgets-label-color: white;\n",
       "                    --jp-ui-font-color1: white;\n",
       "                    --jp-layout-color2: #454545;\n",
       "                    background-color: #383838;\n",
       "                }\n",
       "                    \n",
       "                .geemap-dark .jupyter-button {\n",
       "                    --jp-layout-color3: #383838;\n",
       "                }\n",
       "                \n",
       "                .geemap-colab {\n",
       "                    background-color: var(--colab-primary-surface-color, white);\n",
       "                }\n",
       "                    \n",
       "                .geemap-colab .jupyter-button {\n",
       "                    --jp-layout-color3: var(--colab-primary-surface-color, white);\n",
       "                }\n",
       "            </style>\n",
       "            "
      ],
      "text/plain": [
       "<IPython.core.display.HTML object>"
      ]
     },
     "metadata": {},
     "output_type": "display_data"
    },
    {
     "name": "stdout",
     "output_type": "stream",
     "text": [
      "Get Processed Landsat: \n",
      "Start date: Jan 01 2015 , End date: Dec 30 2020\n",
      "Applying scale factors for C2 L4 data\n",
      "Applying scale factors for C2 L5 data\n",
      "Defringing L4 and L5\n",
      "Applying scale factors for C2 L8 data\n",
      "Only including SLC On Landsat 7\n",
      "Applying scale factors for C2 L7 data\n",
      "Applying scale factors for C2 L9 data\n",
      "Applying Cloud Score\n",
      "Not computing cloudScore offset\n",
      "Applying Fmask Cloud Mask\n",
      "Applying TDOM Shadow Mask\n",
      "Computing irMean for TDOM\n",
      "Computing irStdDev for TDOM\n",
      "Applying Fmask Shadow Mask\n",
      "Adding layer: Time Series (NBR and NDVI)\n",
      "Adding layer: CloudScore and TDOM added 2015 1-365\n",
      "Adding layer: CloudScore and TDOM added 2016 1-365\n",
      "Adding layer: CloudScore and TDOM added 2017 1-365\n",
      "Adding layer: CloudScore and TDOM added 2018 1-365\n",
      "Adding layer: CloudScore and TDOM added 2019 1-365\n",
      "Adding layer: CloudScore and TDOM added 2020 1-365\n",
      "Starting webmap\n",
      "Using default refresh token for geeView\n",
      "Local web server at: http://localhost:5732/geeView/ already serving.\n",
      "cwd /Users/jessieeastburn/Library/CloudStorage/OneDrive-UniversityofUtah/URSA_Work/TS2\n",
      "geeView URL: http://localhost:5732/geeView/?projectID=None&accessToken=ya29.a0AfB_byCx6mXkNRjszUmIekJNU2LkiSfsq2lmZcse4MeY02M55qOiqHs9rby4ib5aZvcjpHXtEGTmbyGSvA3vWhlsnK-vvZ6GiCUbm12ImuCWzdoGkJzzsPoZ4qKGfORCuR_OcNMhEUnXKBQObIRqOQai7OQzkeITcakGaCgYKAX8SARISFQHGX2Mi_8E1Odkie3HTx8Pn-15lZg0171\n"
     ]
    },
    {
     "data": {
      "text/html": [
       "\n",
       "        <iframe\n",
       "            width=\"100%\"\n",
       "            height=\"525px\"\n",
       "            src=\"http://localhost:5732/geeView/?projectID=None&accessToken=ya29.a0AfB_byCx6mXkNRjszUmIekJNU2LkiSfsq2lmZcse4MeY02M55qOiqHs9rby4ib5aZvcjpHXtEGTmbyGSvA3vWhlsnK-vvZ6GiCUbm12ImuCWzdoGkJzzsPoZ4qKGfORCuR_OcNMhEUnXKBQObIRqOQai7OQzkeITcakGaCgYKAX8SARISFQHGX2Mi_8E1Odkie3HTx8Pn-15lZg0171\"\n",
       "            frameborder=\"0\"\n",
       "            allowfullscreen\n",
       "            \n",
       "        ></iframe>\n",
       "        "
      ],
      "text/plain": [
       "<IPython.lib.display.IFrame at 0x12790cc10>"
      ]
     },
     "metadata": {},
     "output_type": "display_data"
    },
    {
     "name": "stdout",
     "output_type": "stream",
     "text": [
      "Done\n"
     ]
    },
    {
     "name": "stderr",
     "output_type": "stream",
     "text": [
      "::1 - - [16/Feb/2024 14:23:44] \"GET /geeView/?projectID=None&accessToken=ya29.a0AfB_byCx6mXkNRjszUmIekJNU2LkiSfsq2lmZcse4MeY02M55qOiqHs9rby4ib5aZvcjpHXtEGTmbyGSvA3vWhlsnK-vvZ6GiCUbm12ImuCWzdoGkJzzsPoZ4qKGfORCuR_OcNMhEUnXKBQObIRqOQai7OQzkeITcakGaCgYKAX8SARISFQHGX2Mi_8E1Odkie3HTx8Pn-15lZg0171 HTTP/1.1\" 200 -\n",
      "::1 - - [16/Feb/2024 14:23:44] \"GET /geeView/src/styles/style.min.css HTTP/1.1\" 304 -\n",
      "::1 - - [16/Feb/2024 14:23:44] \"GET /geeView/src/js/load.min.js HTTP/1.1\" 304 -\n",
      "::1 - - [16/Feb/2024 14:23:44] \"GET /geeView/src/js/lcms-viewer.min.js HTTP/1.1\" 304 -\n",
      "::1 - - [16/Feb/2024 14:23:44] \"GET /geeView/src/js/gena-gee-palettes.js HTTP/1.1\" 304 -\n",
      "::1 - - [16/Feb/2024 14:23:44] \"GET /geeView/src/gee/gee-run/runGeeViz.js HTTP/1.1\" 200 -\n",
      "::1 - - [16/Feb/2024 14:23:44] \"GET /geeView/src/assets/images/GEE.png HTTP/1.1\" 304 -\n",
      "::1 - - [16/Feb/2024 14:23:44] \"GET /geeView/src/assets/images/usfslogo.png HTTP/1.1\" 304 -\n",
      "::1 - - [16/Feb/2024 14:23:44] \"GET /geeView/src/assets/images/usdalogo.png HTTP/1.1\" 304 -\n",
      "::1 - - [16/Feb/2024 14:23:44] \"GET /geeView/src/assets/images/menu-hamburger_ffffff.svg HTTP/1.1\" 304 -\n",
      "::1 - - [16/Feb/2024 14:23:44] \"GET /geeView/src/assets/images/logos_usda-fs.svg HTTP/1.1\" 304 -\n",
      "::1 - - [16/Feb/2024 14:23:44] \"GET /geeView/src/assets/images/layer_icon.png HTTP/1.1\" 304 -\n",
      "::1 - - [16/Feb/2024 14:23:44] \"GET /geeView/src/assets/images/GEE_logo_transparent.png HTTP/1.1\" 304 -\n"
     ]
    }
   ],
   "source": [
    "# Run get images, set parameters manually, and export\n",
    "lsAndTs = getImagesLib.getLandsatWrapper(\\\n",
    "\n",
    "    # Study area and time\n",
    "    studyArea = studyArea,\n",
    "    startYear = 2015,\n",
    "    endYear = 2020,\n",
    "    startJulian = 1,\n",
    "    endJulian = 365,\n",
    "\n",
    "    # Moving window options\n",
    "    timebuffer =  0,# If multi-year moving window is needed, use timebuffer > 0 (e.g. timebuffer = 1 will result in a 3 year moving window)\n",
    "    weights =  [1],# To compliment the timebuffer, set weights for each year of the moving window. This enables the center year to have more weight (e.g. [1,3,1] would weight the center year if timebuffer = 1 3x over the buffer years)\n",
    "\n",
    "    # Composite methods and input imagery\n",
    "    compositingMethod = 'medoid', # Specify median or medoid. Medoid allows for storing only the spectral and ancillary bands without indices\n",
    "    toaOrSR = 'SR', # It is advised to only use TOA when combining Landsat and Sentinel-2 since the Sentinel-2 SR data in GEE are terrain-corrected and Landsat are not\n",
    "    includeSLCOffL7 = False, # Whether to include Landsat 7 after May 2003. Scanline artifacts can be found in composites when True\n",
    "    defringeL5 = True, # Whether to get rid of fringe edges found mostly on Landsat 4 and 5\n",
    "    landsatCollectionVersion = 'C2', # To use Collection 1 or 2. Only use C1 if doing legacy work prior to 2022\n",
    "\n",
    "    # Cloud and shadow masking\n",
    "    # There will be a parameter for applying CloudScore+ to Sentinel-2 provided once it is available for all S2 data\n",
    "    applyCloudScore = True, # We use this since fMask struggles for cloud masking\n",
    "    applyTDOM = True, # We use TDOM for Landsat since the fMask cloud shadow masking method struggles a lot\n",
    "    applyFmaskCloudMask = True,\n",
    "    applyFmaskCloudShadowMask = True,\n",
    "    applyFmaskSnowMask = False,\n",
    "    cloudScoreThresh = 10,# The threshold applied to the cloudScore for Landsat and/or Sentinel-2\n",
    "    performCloudScoreOffset = False,# Set this to False in areas with limited data and/or limited bright cool surfaces\n",
    "    cloudScorePctl = 10, # If performCloudScoreOffset is set to True, this is the percentile of the cloudScores used to see if an area typically has a high cloudScore\n",
    "    zScoreThresh = -1, # The TDOM Z-score threshold for finding dark outliers\n",
    "    shadowSumThresh = 0.35,# The sum of the shadowSumBands has to be below this to be considered dark\n",
    "    contractPixels = 1.5,# Inward buffer pixel radius to get rid of salt and pepper\n",
    "    dilatePixels = 3.5, # Outwoard buffer pixel radius to dilate the cloud shadow mask by\n",
    "\n",
    "    # Image processing\n",
    "    correctIllumination = False, # Method for illuminating hill shadows. This is largely deprecated and not used\n",
    "    correctScale = 250,\n",
    "\n",
    "    # Export parameters\n",
    "    exportComposites = False,# Whether to export resulting composites exportCompositeCollection\n",
    "  #  outputName = 'Landsat-UTKA',\n",
    "  #  exportPathRoot = 'projects/disco-glass-413820/assets/users/lcms-training_module-2_composites', #'content/drive/MyDrive/lcms-training_module-2_composites',used this i think #'projects/resolute-future-412019/assets/users/lcms-training_module-2_composites', og directory #'projects/earthengine-public/assets/content/drive/MyDrive/lcms-training_module-2_composites',\n",
    "    crs = 'EPSG:4326',\n",
    "    #transform = getImagesLib.common_projections['NLCD_CONUS']['transform'],\n",
    "    transform = None)\n",
    " #   scale = None,\n",
    "  #  overwrite = True,# Whether to overwrite existing composites\n",
    "\n",
    "    #Separate into scenes and composites for subsequent analysis\n",
    "processedScenes = lsAndTs['processedScenes']\n",
    "processedComposites = lsAndTs['processedComposites']\n",
    "\n",
    "#Turn off layers from previous iteration\n",
    "Map.turnOffAllLayers()\n",
    "\n",
    "Map.addLayer(processedComposites.select(['NDVI','NBR']),{'addToLegend':'false'},'Time Series (NBR and NDVI)',True)\n",
    "for year in range(startYear,endYear + 1 ):\n",
    "     t = processedComposites.filter(ee.Filter.calendarRange(year,year,'year')).mosaic()\n",
    "     Map.addLayer(t.float(),getImagesLib.vizParamsFalse,'CloudScore and TDOM added {} {}-{}'.format(year,startJulian,endJulian),'True')\n",
    "\n",
    "Map.turnOnInspector()\n",
    "Map.view()\n",
    "print('Done')"
   ]
  },
  {
   "cell_type": "code",
   "execution_count": 26,
   "id": "f6738676-193b-409b-b271-ae85bd553bd9",
   "metadata": {},
   "outputs": [
    {
     "data": {
      "text/html": [
       "\n",
       "            <style>\n",
       "                .geemap-dark {\n",
       "                    --jp-widgets-color: white;\n",
       "                    --jp-widgets-label-color: white;\n",
       "                    --jp-ui-font-color1: white;\n",
       "                    --jp-layout-color2: #454545;\n",
       "                    background-color: #383838;\n",
       "                }\n",
       "                    \n",
       "                .geemap-dark .jupyter-button {\n",
       "                    --jp-layout-color3: #383838;\n",
       "                }\n",
       "                \n",
       "                .geemap-colab {\n",
       "                    background-color: var(--colab-primary-surface-color, white);\n",
       "                }\n",
       "                    \n",
       "                .geemap-colab .jupyter-button {\n",
       "                    --jp-layout-color3: var(--colab-primary-surface-color, white);\n",
       "                }\n",
       "            </style>\n",
       "            "
      ],
      "text/plain": [
       "<IPython.core.display.HTML object>"
      ]
     },
     "metadata": {},
     "output_type": "display_data"
    },
    {
     "name": "stdout",
     "output_type": "stream",
     "text": [
      "Adding layer: Time Series (NBR and NDVI)\n",
      "Adding layer: CloudScore and TDOM added 2015 1-365\n",
      "Adding layer: CloudScore and TDOM added 2016 1-365\n",
      "Adding layer: CloudScore and TDOM added 2017 1-365\n",
      "Adding layer: CloudScore and TDOM added 2018 1-365\n",
      "Adding layer: CloudScore and TDOM added 2019 1-365\n",
      "Adding layer: CloudScore and TDOM added 2020 1-365\n",
      "Starting webmap\n",
      "Using default refresh token for geeView\n",
      "Local web server at: http://localhost:5732/geeView/ already serving.\n",
      "cwd /Users/jessieeastburn/Library/CloudStorage/OneDrive-UniversityofUtah/URSA_Work/TS2\n",
      "geeView URL: http://localhost:5732/geeView/?projectID=None&accessToken=ya29.a0AfB_byArt8O6WKkecsSmauBpEcNxGxUt26B5q2pJNImv4zdlLap8OFiD8NvEisbFUT4njtK4EeIsCxiPUZ7V-rMlrmfgxaQ-XlXkesBz75dDS7Jb5WCJ5AvF8ChE-fmsrixY6j06UIwotHLoE6xVtThVRpOmFmgbX6xqaCgYKAawSARISFQHGX2MiyAhw0b0AJDD-bZrr4RagNA0171\n"
     ]
    },
    {
     "data": {
      "text/html": [
       "\n",
       "        <iframe\n",
       "            width=\"100%\"\n",
       "            height=\"525px\"\n",
       "            src=\"http://localhost:5732/geeView/?projectID=None&accessToken=ya29.a0AfB_byArt8O6WKkecsSmauBpEcNxGxUt26B5q2pJNImv4zdlLap8OFiD8NvEisbFUT4njtK4EeIsCxiPUZ7V-rMlrmfgxaQ-XlXkesBz75dDS7Jb5WCJ5AvF8ChE-fmsrixY6j06UIwotHLoE6xVtThVRpOmFmgbX6xqaCgYKAawSARISFQHGX2MiyAhw0b0AJDD-bZrr4RagNA0171\"\n",
       "            frameborder=\"0\"\n",
       "            allowfullscreen\n",
       "            \n",
       "        ></iframe>\n",
       "        "
      ],
      "text/plain": [
       "<IPython.lib.display.IFrame at 0x12650bdd0>"
      ]
     },
     "metadata": {},
     "output_type": "display_data"
    },
    {
     "name": "stdout",
     "output_type": "stream",
     "text": [
      "Done\n"
     ]
    },
    {
     "name": "stderr",
     "output_type": "stream",
     "text": [
      "::1 - - [16/Feb/2024 14:26:39] \"GET /geeView/?projectID=None&accessToken=ya29.a0AfB_byArt8O6WKkecsSmauBpEcNxGxUt26B5q2pJNImv4zdlLap8OFiD8NvEisbFUT4njtK4EeIsCxiPUZ7V-rMlrmfgxaQ-XlXkesBz75dDS7Jb5WCJ5AvF8ChE-fmsrixY6j06UIwotHLoE6xVtThVRpOmFmgbX6xqaCgYKAawSARISFQHGX2MiyAhw0b0AJDD-bZrr4RagNA0171 HTTP/1.1\" 200 -\n",
      "::1 - - [16/Feb/2024 14:26:39] \"GET /geeView/src/gee/gee-run/runGeeViz.js HTTP/1.1\" 200 -\n"
     ]
    }
   ],
   "source": [
    "\n",
    "#Turn off layers from previous iteration\n",
    "Map.turnOffAllLayers()\n",
    "\n",
    "Map.addLayer(processedComposites.select(['NDVI','NBR']),{'addToLegend':'false'},'Time Series (NBR and NDVI)',True)\n",
    "for year in range(startYear,endYear + 1 ):\n",
    "     t = processedComposites.filter(ee.Filter.calendarRange(year,year,'year')).mosaic()\n",
    "     Map.addLayer(t.float(),getImagesLib.vizParamsFalse,'CloudScore and TDOM added {} {}-{}'.format(year,startJulian,endJulian),'True')\n",
    "\n",
    "Map.turnOnInspector()\n",
    "Map.view()\n",
    "print('Done')"
   ]
  },
  {
   "cell_type": "code",
   "execution_count": null,
   "id": "826e217e-73fd-45ec-9616-8715fc6c4115",
   "metadata": {},
   "outputs": [],
   "source": []
  }
 ],
 "metadata": {
  "kernelspec": {
   "display_name": "Python 3 (ipykernel)",
   "language": "python",
   "name": "python3"
  },
  "language_info": {
   "codemirror_mode": {
    "name": "ipython",
    "version": 3
   },
   "file_extension": ".py",
   "mimetype": "text/x-python",
   "name": "python",
   "nbconvert_exporter": "python",
   "pygments_lexer": "ipython3",
   "version": "3.11.7"
  }
 },
 "nbformat": 4,
 "nbformat_minor": 5
}
